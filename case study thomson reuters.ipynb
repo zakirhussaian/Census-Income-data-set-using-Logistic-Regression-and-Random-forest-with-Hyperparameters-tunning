{
 "cells": [
  {
   "cell_type": "markdown",
   "id": "715af721",
   "metadata": {
    "ExecuteTime": {
     "end_time": "2022-02-12T16:49:12.572390Z",
     "start_time": "2022-02-12T16:49:12.556763Z"
    }
   },
   "source": [
    "# Problem Statement"
   ]
  },
  {
   "cell_type": "markdown",
   "id": "ec2419e7",
   "metadata": {},
   "source": [
    "<li>Predict whether income exceeds $50K/yr based on census data. Also known as \"Census Income\" dataset.</li>\n",
    "<li> Data Set Information:</li>\n",
    "\n",
    "<ul><li>Extraction was done by Barry Becker from the 1994 Census database. A set of reasonably clean records was extracted using the following conditions: ((AAGE>16) && (AGI>100) && (AFNLWGT>1)&& (HRSWK>0))</li>\n",
    "\n",
    "<li>Prediction task is to determine whether a person makes over 50K a year. </li></ul>"
   ]
  },
  {
   "cell_type": "markdown",
   "id": "dce72002",
   "metadata": {},
   "source": [
    "<li>Listing of attributes:</li>\n",
    "<ol><li>Income: >50K, <=50K. </li>\n",
    "<li>age:final Weight(continuous).</li>\n",
    "<li>workclass: Private, Self-emp-not-inc, Self-emp-inc, Federal-gov, Local-gov, State-gov, Without-pay, Never-worked.</li>\n",
    "<li>fnlwgt: continuous.</li>\n",
    "<li>education: Bachelors, Some-college, 11th, HS-grad, Prof-school, Assoc-acdm, Assoc-voc, 9th, 7th-8th, 12th, Masters, 1st-4th, 10th, Doctorate, 5th-6th, Preschool.</li>\n",
    "<li>education-num: continuous.</li>\n",
    "<li>marital-status: Married-civ-spouse, Divorced, Never-married, Separated, Widowed, Married-spouse-absent, Married-AF-spouse.</li>\n",
    "<li>occupation: Tech-support, Craft-repair, Other-service, Sales, Exec-managerial, Prof-specialty, Handlers-cleaners, Machine-op-inspct, Adm-clerical,Farm/ing-fishing, Transport-moving, Priv-house-serv, Protective-serv, Armed-Forces.</li>\n",
    "<li>relationship: Wife, Own-child, Husband, Not-in-family, Other-relative, Unmarried.</li>\n",
    "<li>race: White, Asian-Pac-Islander, Amer-Indian-Eskimo, Other, Black.</li>\n",
    "<li>sex: Female, Male.</li>\n",
    "<li>capital-gain: continuous.</li>\n",
    "<li>capital-loss: continuous.</li>\n",
    "hours-per-week: continuous.</li>\n",
    "<li>native-country: United-States, Cambodia, England, Puerto-Rico, Canada, Germany, Outlying-US(Guam-USVI-etc), India, Japan, Greece, South, China, Cuba, Iran, Honduras, Philippines, Italy, Poland, Jamaica, Vietnam, Mexico, Portugal, Ireland, France, Dominican-Republic, Laos, Ecuador, Taiwan, Haiti, Columbia, Hungary, Guatemala, Nicaragua, Scotland, Thailand, Yugoslavia, El-Salvador, Trinadad& Tobago, Peru, Hong, Holand-Netherlands.</li></ol>"
   ]
  },
  {
   "cell_type": "markdown",
   "id": "d870a37f",
   "metadata": {},
   "source": [
    "# Importing Libraries"
   ]
  },
  {
   "cell_type": "code",
   "execution_count": 1,
   "id": "57e32c33",
   "metadata": {
    "ExecuteTime": {
     "end_time": "2022-02-13T10:47:50.908844Z",
     "start_time": "2022-02-13T10:47:49.355477Z"
    }
   },
   "outputs": [],
   "source": [
    "# Fundamental Packages of Python\n",
    "import numpy as np\n",
    "import pandas as pd\n",
    "from IPython.core.interactiveshell import InteractiveShell\n",
    "\n",
    "InteractiveShell.ast_node_interactivity = 'all'\n",
    "import warnings\n",
    "\n",
    "warnings.filterwarnings('ignore')\n",
    "\n",
    "# Visualizations\n",
    "import matplotlib.pyplot as plt\n",
    "from matplotlib import rcParams\n",
    "import seaborn as sns\n",
    "%matplotlib inline\n",
    "\n",
    "# Algorithms\n",
    "from sklearn import linear_model\n",
    "from sklearn.linear_model import LogisticRegression\n",
    "from sklearn.ensemble import RandomForestClassifier"
   ]
  },
  {
   "cell_type": "markdown",
   "id": "1543099a",
   "metadata": {},
   "source": [
    "# Importing Dataset "
   ]
  },
  {
   "cell_type": "code",
   "execution_count": 2,
   "id": "b42ebe94",
   "metadata": {
    "ExecuteTime": {
     "end_time": "2022-02-13T10:47:51.175976Z",
     "start_time": "2022-02-13T10:47:51.034278Z"
    }
   },
   "outputs": [],
   "source": [
    "df_train = pd.read_csv('adult.data', delimiter=',')\n",
    "df_test = pd.read_csv('adult.test', encoding='latin-1', delimiter=',', sep=',')"
   ]
  },
  {
   "cell_type": "markdown",
   "id": "555a6629",
   "metadata": {
    "ExecuteTime": {
     "end_time": "2022-02-13T05:48:35.835938Z",
     "start_time": "2022-02-13T05:48:35.820419Z"
    }
   },
   "source": [
    "# Creating backup dataset"
   ]
  },
  {
   "cell_type": "code",
   "execution_count": 3,
   "id": "20f2722a",
   "metadata": {
    "ExecuteTime": {
     "end_time": "2022-02-13T10:47:51.899244Z",
     "start_time": "2022-02-13T10:47:51.867637Z"
    }
   },
   "outputs": [],
   "source": [
    "df_train_backup = df_train.copy(deep=True)\n",
    "df_test_backup = df_test.copy(deep=True)\n",
    "columns = [\n",
    "    'age', 'work_class', 'fnlwgt', 'education', 'education_num',\n",
    "    'marital_status', 'occupation', 'relationship', 'race', 'sex',\n",
    "    'capital_gain', 'capital_loss', 'hours_per_week', 'native_country',\n",
    "    'income'\n",
    "]\n",
    "df_train_backup.columns = columns\n",
    "df_test_backup.reset_index(inplace=True)\n",
    "df_test_backup.columns = columns"
   ]
  },
  {
   "cell_type": "markdown",
   "id": "2f313028",
   "metadata": {},
   "source": [
    "# Preprocessing the Dataset"
   ]
  },
  {
   "cell_type": "code",
   "execution_count": 4,
   "id": "49875ed6",
   "metadata": {
    "ExecuteTime": {
     "end_time": "2022-02-13T10:47:52.637261Z",
     "start_time": "2022-02-13T10:47:52.621644Z"
    }
   },
   "outputs": [
    {
     "data": {
      "text/plain": [
       "Index(['|1x3 Cross validator'], dtype='object')"
      ]
     },
     "execution_count": 4,
     "metadata": {},
     "output_type": "execute_result"
    },
    {
     "data": {
      "text/plain": [
       "1"
      ]
     },
     "execution_count": 4,
     "metadata": {},
     "output_type": "execute_result"
    },
    {
     "data": {
      "text/plain": [
       "Index(['39', ' State-gov', ' 77516', ' Bachelors', ' 13', ' Never-married',\n",
       "       ' Adm-clerical', ' Not-in-family', ' White', ' Male', ' 2174', ' 0',\n",
       "       ' 40', ' United-States', ' <=50K'],\n",
       "      dtype='object')"
      ]
     },
     "execution_count": 4,
     "metadata": {},
     "output_type": "execute_result"
    },
    {
     "data": {
      "text/plain": [
       "15"
      ]
     },
     "execution_count": 4,
     "metadata": {},
     "output_type": "execute_result"
    }
   ],
   "source": [
    "df_test.columns  # Test dataset has multiindex so have to convert back into columns\n",
    "len(df_test.columns)\n",
    "df_train.columns\n",
    "len(df_train.columns)"
   ]
  },
  {
   "cell_type": "code",
   "execution_count": 5,
   "id": "c106962c",
   "metadata": {
    "ExecuteTime": {
     "end_time": "2022-02-13T10:47:53.642106Z",
     "start_time": "2022-02-13T10:47:53.614454Z"
    }
   },
   "outputs": [],
   "source": [
    "columns = [\n",
    "    'age', 'work_class', 'fnlwgt', 'education', 'education_num',\n",
    "    'marital_status', 'occupation', 'relationship', 'race', 'sex',\n",
    "    'capital_gain', 'capital_loss', 'hours_per_week', 'native_country',\n",
    "    'income'\n",
    "]\n",
    "\n",
    "df_test = df_test.reset_index()\n",
    "\n",
    "df_test.columns = columns\n",
    "df_train.columns = columns"
   ]
  },
  {
   "cell_type": "markdown",
   "id": "722351b4",
   "metadata": {},
   "source": [
    "# Descriptive Analysis"
   ]
  },
  {
   "cell_type": "code",
   "execution_count": 6,
   "id": "b2526752",
   "metadata": {
    "ExecuteTime": {
     "end_time": "2022-02-13T10:47:54.836672Z",
     "start_time": "2022-02-13T10:47:54.820820Z"
    }
   },
   "outputs": [
    {
     "data": {
      "text/plain": [
       "(32560, 15)"
      ]
     },
     "execution_count": 6,
     "metadata": {},
     "output_type": "execute_result"
    },
    {
     "data": {
      "text/plain": [
       "(16281, 15)"
      ]
     },
     "execution_count": 6,
     "metadata": {},
     "output_type": "execute_result"
    }
   ],
   "source": [
    "df_train.shape\n",
    "df_test.shape"
   ]
  },
  {
   "cell_type": "code",
   "execution_count": 7,
   "id": "ae334567",
   "metadata": {
    "ExecuteTime": {
     "end_time": "2022-02-13T10:47:55.417481Z",
     "start_time": "2022-02-13T10:47:55.323208Z"
    }
   },
   "outputs": [
    {
     "name": "stdout",
     "output_type": "stream",
     "text": [
      "<class 'pandas.core.frame.DataFrame'>\n",
      "RangeIndex: 32560 entries, 0 to 32559\n",
      "Data columns (total 15 columns):\n",
      " #   Column          Non-Null Count  Dtype \n",
      "---  ------          --------------  ----- \n",
      " 0   age             32560 non-null  int64 \n",
      " 1   work_class      32560 non-null  object\n",
      " 2   fnlwgt          32560 non-null  int64 \n",
      " 3   education       32560 non-null  object\n",
      " 4   education_num   32560 non-null  int64 \n",
      " 5   marital_status  32560 non-null  object\n",
      " 6   occupation      32560 non-null  object\n",
      " 7   relationship    32560 non-null  object\n",
      " 8   race            32560 non-null  object\n",
      " 9   sex             32560 non-null  object\n",
      " 10  capital_gain    32560 non-null  int64 \n",
      " 11  capital_loss    32560 non-null  int64 \n",
      " 12  hours_per_week  32560 non-null  int64 \n",
      " 13  native_country  32560 non-null  object\n",
      " 14  income          32560 non-null  object\n",
      "dtypes: int64(6), object(9)\n",
      "memory usage: 3.7+ MB\n"
     ]
    },
    {
     "data": {
      "text/plain": [
       "age                  73\n",
       "work_class            9\n",
       "fnlwgt            21647\n",
       "education            16\n",
       "education_num        16\n",
       "marital_status        7\n",
       "occupation           15\n",
       "relationship          6\n",
       "race                  5\n",
       "sex                   2\n",
       "capital_gain        119\n",
       "capital_loss         92\n",
       "hours_per_week       94\n",
       "native_country       42\n",
       "income                2\n",
       "dtype: int64"
      ]
     },
     "execution_count": 7,
     "metadata": {},
     "output_type": "execute_result"
    }
   ],
   "source": [
    "df_train.info()\n",
    "df_train.nunique()"
   ]
  },
  {
   "cell_type": "code",
   "execution_count": 8,
   "id": "9d00956a",
   "metadata": {
    "ExecuteTime": {
     "end_time": "2022-02-13T10:47:56.079029Z",
     "start_time": "2022-02-13T10:47:56.014313Z"
    }
   },
   "outputs": [
    {
     "name": "stdout",
     "output_type": "stream",
     "text": [
      "<class 'pandas.core.frame.DataFrame'>\n",
      "RangeIndex: 16281 entries, 0 to 16280\n",
      "Data columns (total 15 columns):\n",
      " #   Column          Non-Null Count  Dtype \n",
      "---  ------          --------------  ----- \n",
      " 0   age             16281 non-null  int64 \n",
      " 1   work_class      16281 non-null  object\n",
      " 2   fnlwgt          16281 non-null  int64 \n",
      " 3   education       16281 non-null  object\n",
      " 4   education_num   16281 non-null  int64 \n",
      " 5   marital_status  16281 non-null  object\n",
      " 6   occupation      16281 non-null  object\n",
      " 7   relationship    16281 non-null  object\n",
      " 8   race            16281 non-null  object\n",
      " 9   sex             16281 non-null  object\n",
      " 10  capital_gain    16281 non-null  int64 \n",
      " 11  capital_loss    16281 non-null  int64 \n",
      " 12  hours_per_week  16281 non-null  int64 \n",
      " 13  native_country  16281 non-null  object\n",
      " 14  income          16281 non-null  object\n",
      "dtypes: int64(6), object(9)\n",
      "memory usage: 1.9+ MB\n"
     ]
    },
    {
     "data": {
      "text/plain": [
       "age                  73\n",
       "work_class            9\n",
       "fnlwgt            12787\n",
       "education            16\n",
       "education_num        16\n",
       "marital_status        7\n",
       "occupation           15\n",
       "relationship          6\n",
       "race                  5\n",
       "sex                   2\n",
       "capital_gain        113\n",
       "capital_loss         82\n",
       "hours_per_week       89\n",
       "native_country       41\n",
       "income                2\n",
       "dtype: int64"
      ]
     },
     "execution_count": 8,
     "metadata": {},
     "output_type": "execute_result"
    }
   ],
   "source": [
    "df_test.info()\n",
    "df_test.nunique()"
   ]
  },
  {
   "cell_type": "markdown",
   "id": "4ece0484",
   "metadata": {},
   "source": [
    "## Handling Garbage values in Dataset"
   ]
  },
  {
   "cell_type": "markdown",
   "id": "d3a0d1d5",
   "metadata": {
    "ExecuteTime": {
     "end_time": "2022-02-13T08:56:51.833202Z",
     "start_time": "2022-02-13T08:56:51.817445Z"
    }
   },
   "source": [
    "Replacing garbage value (\" ? \") with the null vlaues in dataset"
   ]
  },
  {
   "cell_type": "code",
   "execution_count": 9,
   "id": "fb8e950c",
   "metadata": {
    "ExecuteTime": {
     "end_time": "2022-02-13T10:47:58.078225Z",
     "start_time": "2022-02-13T10:47:57.999114Z"
    }
   },
   "outputs": [],
   "source": [
    "df_train[df_train == ' ?'] = np.nan\n",
    "df_test[df_test == ' ?'] = np.nan"
   ]
  },
  {
   "cell_type": "markdown",
   "id": "c31fd817",
   "metadata": {},
   "source": [
    "# Nullvalue treatment"
   ]
  },
  {
   "cell_type": "code",
   "execution_count": 10,
   "id": "17c4d9e9",
   "metadata": {
    "ExecuteTime": {
     "end_time": "2022-02-13T10:47:59.208819Z",
     "start_time": "2022-02-13T10:47:59.146291Z"
    }
   },
   "outputs": [
    {
     "data": {
      "text/plain": [
       "age                  0\n",
       "work_class        1836\n",
       "fnlwgt               0\n",
       "education            0\n",
       "education_num        0\n",
       "marital_status       0\n",
       "occupation        1843\n",
       "relationship         0\n",
       "race                 0\n",
       "sex                  0\n",
       "capital_gain         0\n",
       "capital_loss         0\n",
       "hours_per_week       0\n",
       "native_country     583\n",
       "income               0\n",
       "dtype: int64"
      ]
     },
     "execution_count": 10,
     "metadata": {},
     "output_type": "execute_result"
    },
    {
     "data": {
      "text/html": [
       "<div>\n",
       "<style scoped>\n",
       "    .dataframe tbody tr th:only-of-type {\n",
       "        vertical-align: middle;\n",
       "    }\n",
       "\n",
       "    .dataframe tbody tr th {\n",
       "        vertical-align: top;\n",
       "    }\n",
       "\n",
       "    .dataframe thead th {\n",
       "        text-align: right;\n",
       "    }\n",
       "</style>\n",
       "<table border=\"1\" class=\"dataframe\">\n",
       "  <thead>\n",
       "    <tr style=\"text-align: right;\">\n",
       "      <th></th>\n",
       "      <th>No_of_NullValues</th>\n",
       "    </tr>\n",
       "  </thead>\n",
       "  <tbody>\n",
       "    <tr>\n",
       "      <th>age</th>\n",
       "      <td>0</td>\n",
       "    </tr>\n",
       "    <tr>\n",
       "      <th>work_class</th>\n",
       "      <td>963</td>\n",
       "    </tr>\n",
       "    <tr>\n",
       "      <th>fnlwgt</th>\n",
       "      <td>0</td>\n",
       "    </tr>\n",
       "    <tr>\n",
       "      <th>education</th>\n",
       "      <td>0</td>\n",
       "    </tr>\n",
       "    <tr>\n",
       "      <th>education_num</th>\n",
       "      <td>0</td>\n",
       "    </tr>\n",
       "    <tr>\n",
       "      <th>marital_status</th>\n",
       "      <td>0</td>\n",
       "    </tr>\n",
       "    <tr>\n",
       "      <th>occupation</th>\n",
       "      <td>966</td>\n",
       "    </tr>\n",
       "    <tr>\n",
       "      <th>relationship</th>\n",
       "      <td>0</td>\n",
       "    </tr>\n",
       "    <tr>\n",
       "      <th>race</th>\n",
       "      <td>0</td>\n",
       "    </tr>\n",
       "    <tr>\n",
       "      <th>sex</th>\n",
       "      <td>0</td>\n",
       "    </tr>\n",
       "    <tr>\n",
       "      <th>capital_gain</th>\n",
       "      <td>0</td>\n",
       "    </tr>\n",
       "    <tr>\n",
       "      <th>capital_loss</th>\n",
       "      <td>0</td>\n",
       "    </tr>\n",
       "    <tr>\n",
       "      <th>hours_per_week</th>\n",
       "      <td>0</td>\n",
       "    </tr>\n",
       "    <tr>\n",
       "      <th>native_country</th>\n",
       "      <td>274</td>\n",
       "    </tr>\n",
       "    <tr>\n",
       "      <th>income</th>\n",
       "      <td>0</td>\n",
       "    </tr>\n",
       "  </tbody>\n",
       "</table>\n",
       "</div>"
      ],
      "text/plain": [
       "                No_of_NullValues\n",
       "age                            0\n",
       "work_class                   963\n",
       "fnlwgt                         0\n",
       "education                      0\n",
       "education_num                  0\n",
       "marital_status                 0\n",
       "occupation                   966\n",
       "relationship                   0\n",
       "race                           0\n",
       "sex                            0\n",
       "capital_gain                   0\n",
       "capital_loss                   0\n",
       "hours_per_week                 0\n",
       "native_country               274\n",
       "income                         0"
      ]
     },
     "execution_count": 10,
     "metadata": {},
     "output_type": "execute_result"
    }
   ],
   "source": [
    "df_train.isna().sum()\n",
    "pd.DataFrame(df_test.isna().sum(),columns=['No_of_NullValues'],index = df_test.columns)"
   ]
  },
  {
   "cell_type": "code",
   "execution_count": 11,
   "id": "59f4dd46",
   "metadata": {
    "ExecuteTime": {
     "end_time": "2022-02-13T10:47:59.695397Z",
     "start_time": "2022-02-13T10:47:59.632159Z"
    }
   },
   "outputs": [
    {
     "data": {
      "text/plain": [
       "age               0.000000\n",
       "work_class        5.638821\n",
       "fnlwgt            0.000000\n",
       "education         0.000000\n",
       "education_num     0.000000\n",
       "marital_status    0.000000\n",
       "occupation        5.660319\n",
       "relationship      0.000000\n",
       "race              0.000000\n",
       "sex               0.000000\n",
       "capital_gain      0.000000\n",
       "capital_loss      0.000000\n",
       "hours_per_week    0.000000\n",
       "native_country    1.790541\n",
       "income            0.000000\n",
       "dtype: float64"
      ]
     },
     "execution_count": 11,
     "metadata": {},
     "output_type": "execute_result"
    },
    {
     "data": {
      "text/plain": [
       "age               0.000000\n",
       "work_class        5.914870\n",
       "fnlwgt            0.000000\n",
       "education         0.000000\n",
       "education_num     0.000000\n",
       "marital_status    0.000000\n",
       "occupation        5.933296\n",
       "relationship      0.000000\n",
       "race              0.000000\n",
       "sex               0.000000\n",
       "capital_gain      0.000000\n",
       "capital_loss      0.000000\n",
       "hours_per_week    0.000000\n",
       "native_country    1.682943\n",
       "income            0.000000\n",
       "dtype: float64"
      ]
     },
     "execution_count": 11,
     "metadata": {},
     "output_type": "execute_result"
    }
   ],
   "source": [
    "null_value_table_train=(df_train.isna().sum()/df_train.shape[0])*100\n",
    "null_value_table_train\n",
    "null_value_table_test=(df_test.isna().sum()/df_test.shape[0])*100\n",
    "null_value_table_test"
   ]
  },
  {
   "cell_type": "code",
   "execution_count": 12,
   "id": "f29e9c80",
   "metadata": {
    "ExecuteTime": {
     "end_time": "2022-02-13T10:48:00.229653Z",
     "start_time": "2022-02-13T10:48:00.182334Z"
    }
   },
   "outputs": [
    {
     "name": "stdout",
     "output_type": "stream",
     "text": [
      "['work_class', 'occupation', 'native_country']\n",
      "['work_class', 'occupation', 'native_country']\n"
     ]
    }
   ],
   "source": [
    "# Attributes with the Null values in Train dataset\n",
    "null_cols_train = [col for col in df_train.columns\n",
    "                     if df_train[col].isnull().any()] \n",
    "print(null_cols_train)\n",
    "# Attributes with the Null values in Test dataset\n",
    "null_cols_test = [col for col in df_test.columns\n",
    "                     if df_test[col].isnull().any()] \n",
    "print(null_cols_test)"
   ]
  },
  {
   "cell_type": "code",
   "execution_count": 13,
   "id": "5e617366",
   "metadata": {
    "ExecuteTime": {
     "end_time": "2022-02-13T10:48:00.701013Z",
     "start_time": "2022-02-13T10:48:00.669473Z"
    }
   },
   "outputs": [
    {
     "data": {
      "text/plain": [
       "work_class        object\n",
       "occupation        object\n",
       "native_country    object\n",
       "dtype: object"
      ]
     },
     "execution_count": 13,
     "metadata": {},
     "output_type": "execute_result"
    },
    {
     "data": {
      "text/plain": [
       "work_class        object\n",
       "occupation        object\n",
       "native_country    object\n",
       "dtype: object"
      ]
     },
     "execution_count": 13,
     "metadata": {},
     "output_type": "execute_result"
    }
   ],
   "source": [
    "df_train[null_cols_train].dtypes \n",
    "df_train[null_cols_test].dtypes "
   ]
  },
  {
   "cell_type": "code",
   "execution_count": 14,
   "id": "d96561a7",
   "metadata": {
    "ExecuteTime": {
     "end_time": "2022-02-13T10:48:01.203068Z",
     "start_time": "2022-02-13T10:48:01.174201Z"
    }
   },
   "outputs": [
    {
     "name": "stdout",
     "output_type": "stream",
     "text": [
      "work_class\n",
      "occupation\n",
      "native_country\n",
      "work_class\n",
      "occupation\n",
      "native_country\n"
     ]
    }
   ],
   "source": [
    "# As the attributes with are categorical so imputing the missing value with mode operation\n",
    "for i in null_cols_train:\n",
    "    print(i)\n",
    "    df_train[i].fillna(df_train[i].mode()[0],inplace = True)\n",
    "for i in null_cols_test:\n",
    "    print(i)\n",
    "    df_test[i].fillna(df_test[i].mode()[0],inplace = True)"
   ]
  },
  {
   "cell_type": "markdown",
   "id": "f6c5bd24",
   "metadata": {},
   "source": [
    "## Cross checking the after NullValue treatment"
   ]
  },
  {
   "cell_type": "code",
   "execution_count": 15,
   "id": "3ef8eff1",
   "metadata": {
    "ExecuteTime": {
     "end_time": "2022-02-13T10:48:01.895552Z",
     "start_time": "2022-02-13T10:48:01.863873Z"
    }
   },
   "outputs": [
    {
     "data": {
      "text/html": [
       "<div>\n",
       "<style scoped>\n",
       "    .dataframe tbody tr th:only-of-type {\n",
       "        vertical-align: middle;\n",
       "    }\n",
       "\n",
       "    .dataframe tbody tr th {\n",
       "        vertical-align: top;\n",
       "    }\n",
       "\n",
       "    .dataframe thead th {\n",
       "        text-align: right;\n",
       "    }\n",
       "</style>\n",
       "<table border=\"1\" class=\"dataframe\">\n",
       "  <thead>\n",
       "    <tr style=\"text-align: right;\">\n",
       "      <th></th>\n",
       "      <th>No_of_NullValues</th>\n",
       "    </tr>\n",
       "  </thead>\n",
       "  <tbody>\n",
       "    <tr>\n",
       "      <th>age</th>\n",
       "      <td>0</td>\n",
       "    </tr>\n",
       "    <tr>\n",
       "      <th>work_class</th>\n",
       "      <td>0</td>\n",
       "    </tr>\n",
       "    <tr>\n",
       "      <th>fnlwgt</th>\n",
       "      <td>0</td>\n",
       "    </tr>\n",
       "    <tr>\n",
       "      <th>education</th>\n",
       "      <td>0</td>\n",
       "    </tr>\n",
       "    <tr>\n",
       "      <th>education_num</th>\n",
       "      <td>0</td>\n",
       "    </tr>\n",
       "    <tr>\n",
       "      <th>marital_status</th>\n",
       "      <td>0</td>\n",
       "    </tr>\n",
       "    <tr>\n",
       "      <th>occupation</th>\n",
       "      <td>0</td>\n",
       "    </tr>\n",
       "    <tr>\n",
       "      <th>relationship</th>\n",
       "      <td>0</td>\n",
       "    </tr>\n",
       "    <tr>\n",
       "      <th>race</th>\n",
       "      <td>0</td>\n",
       "    </tr>\n",
       "    <tr>\n",
       "      <th>sex</th>\n",
       "      <td>0</td>\n",
       "    </tr>\n",
       "    <tr>\n",
       "      <th>capital_gain</th>\n",
       "      <td>0</td>\n",
       "    </tr>\n",
       "    <tr>\n",
       "      <th>capital_loss</th>\n",
       "      <td>0</td>\n",
       "    </tr>\n",
       "    <tr>\n",
       "      <th>hours_per_week</th>\n",
       "      <td>0</td>\n",
       "    </tr>\n",
       "    <tr>\n",
       "      <th>native_country</th>\n",
       "      <td>0</td>\n",
       "    </tr>\n",
       "    <tr>\n",
       "      <th>income</th>\n",
       "      <td>0</td>\n",
       "    </tr>\n",
       "  </tbody>\n",
       "</table>\n",
       "</div>"
      ],
      "text/plain": [
       "                No_of_NullValues\n",
       "age                            0\n",
       "work_class                     0\n",
       "fnlwgt                         0\n",
       "education                      0\n",
       "education_num                  0\n",
       "marital_status                 0\n",
       "occupation                     0\n",
       "relationship                   0\n",
       "race                           0\n",
       "sex                            0\n",
       "capital_gain                   0\n",
       "capital_loss                   0\n",
       "hours_per_week                 0\n",
       "native_country                 0\n",
       "income                         0"
      ]
     },
     "execution_count": 15,
     "metadata": {},
     "output_type": "execute_result"
    }
   ],
   "source": [
    "pd.DataFrame(df_test.isna().sum(),columns=['No_of_NullValues'],index = df_test.columns)"
   ]
  },
  {
   "cell_type": "markdown",
   "id": "30e4ab2c",
   "metadata": {},
   "source": [
    "## Descriptive analysis"
   ]
  },
  {
   "cell_type": "code",
   "execution_count": 16,
   "id": "b689df31",
   "metadata": {
    "ExecuteTime": {
     "end_time": "2022-02-13T10:48:03.133334Z",
     "start_time": "2022-02-13T10:48:02.932765Z"
    }
   },
   "outputs": [
    {
     "data": {
      "text/html": [
       "<div>\n",
       "<style scoped>\n",
       "    .dataframe tbody tr th:only-of-type {\n",
       "        vertical-align: middle;\n",
       "    }\n",
       "\n",
       "    .dataframe tbody tr th {\n",
       "        vertical-align: top;\n",
       "    }\n",
       "\n",
       "    .dataframe thead th {\n",
       "        text-align: right;\n",
       "    }\n",
       "</style>\n",
       "<table border=\"1\" class=\"dataframe\">\n",
       "  <thead>\n",
       "    <tr style=\"text-align: right;\">\n",
       "      <th></th>\n",
       "      <th>age</th>\n",
       "      <th>fnlwgt</th>\n",
       "      <th>education_num</th>\n",
       "      <th>capital_gain</th>\n",
       "      <th>capital_loss</th>\n",
       "      <th>hours_per_week</th>\n",
       "    </tr>\n",
       "  </thead>\n",
       "  <tbody>\n",
       "    <tr>\n",
       "      <th>count</th>\n",
       "      <td>32560.000000</td>\n",
       "      <td>3.256000e+04</td>\n",
       "      <td>32560.000000</td>\n",
       "      <td>32560.000000</td>\n",
       "      <td>32560.000000</td>\n",
       "      <td>32560.000000</td>\n",
       "    </tr>\n",
       "    <tr>\n",
       "      <th>mean</th>\n",
       "      <td>38.581634</td>\n",
       "      <td>1.897818e+05</td>\n",
       "      <td>10.080590</td>\n",
       "      <td>1077.615172</td>\n",
       "      <td>87.306511</td>\n",
       "      <td>40.437469</td>\n",
       "    </tr>\n",
       "    <tr>\n",
       "      <th>std</th>\n",
       "      <td>13.640642</td>\n",
       "      <td>1.055498e+05</td>\n",
       "      <td>2.572709</td>\n",
       "      <td>7385.402999</td>\n",
       "      <td>402.966116</td>\n",
       "      <td>12.347618</td>\n",
       "    </tr>\n",
       "    <tr>\n",
       "      <th>min</th>\n",
       "      <td>17.000000</td>\n",
       "      <td>1.228500e+04</td>\n",
       "      <td>1.000000</td>\n",
       "      <td>0.000000</td>\n",
       "      <td>0.000000</td>\n",
       "      <td>1.000000</td>\n",
       "    </tr>\n",
       "    <tr>\n",
       "      <th>25%</th>\n",
       "      <td>28.000000</td>\n",
       "      <td>1.178315e+05</td>\n",
       "      <td>9.000000</td>\n",
       "      <td>0.000000</td>\n",
       "      <td>0.000000</td>\n",
       "      <td>40.000000</td>\n",
       "    </tr>\n",
       "    <tr>\n",
       "      <th>50%</th>\n",
       "      <td>37.000000</td>\n",
       "      <td>1.783630e+05</td>\n",
       "      <td>10.000000</td>\n",
       "      <td>0.000000</td>\n",
       "      <td>0.000000</td>\n",
       "      <td>40.000000</td>\n",
       "    </tr>\n",
       "    <tr>\n",
       "      <th>75%</th>\n",
       "      <td>48.000000</td>\n",
       "      <td>2.370545e+05</td>\n",
       "      <td>12.000000</td>\n",
       "      <td>0.000000</td>\n",
       "      <td>0.000000</td>\n",
       "      <td>45.000000</td>\n",
       "    </tr>\n",
       "    <tr>\n",
       "      <th>max</th>\n",
       "      <td>90.000000</td>\n",
       "      <td>1.484705e+06</td>\n",
       "      <td>16.000000</td>\n",
       "      <td>99999.000000</td>\n",
       "      <td>4356.000000</td>\n",
       "      <td>99.000000</td>\n",
       "    </tr>\n",
       "  </tbody>\n",
       "</table>\n",
       "</div>"
      ],
      "text/plain": [
       "                age        fnlwgt  education_num  capital_gain  capital_loss  \\\n",
       "count  32560.000000  3.256000e+04   32560.000000  32560.000000  32560.000000   \n",
       "mean      38.581634  1.897818e+05      10.080590   1077.615172     87.306511   \n",
       "std       13.640642  1.055498e+05       2.572709   7385.402999    402.966116   \n",
       "min       17.000000  1.228500e+04       1.000000      0.000000      0.000000   \n",
       "25%       28.000000  1.178315e+05       9.000000      0.000000      0.000000   \n",
       "50%       37.000000  1.783630e+05      10.000000      0.000000      0.000000   \n",
       "75%       48.000000  2.370545e+05      12.000000      0.000000      0.000000   \n",
       "max       90.000000  1.484705e+06      16.000000  99999.000000   4356.000000   \n",
       "\n",
       "       hours_per_week  \n",
       "count    32560.000000  \n",
       "mean        40.437469  \n",
       "std         12.347618  \n",
       "min          1.000000  \n",
       "25%         40.000000  \n",
       "50%         40.000000  \n",
       "75%         45.000000  \n",
       "max         99.000000  "
      ]
     },
     "execution_count": 16,
     "metadata": {},
     "output_type": "execute_result"
    },
    {
     "data": {
      "text/html": [
       "<div>\n",
       "<style scoped>\n",
       "    .dataframe tbody tr th:only-of-type {\n",
       "        vertical-align: middle;\n",
       "    }\n",
       "\n",
       "    .dataframe tbody tr th {\n",
       "        vertical-align: top;\n",
       "    }\n",
       "\n",
       "    .dataframe thead th {\n",
       "        text-align: right;\n",
       "    }\n",
       "</style>\n",
       "<table border=\"1\" class=\"dataframe\">\n",
       "  <thead>\n",
       "    <tr style=\"text-align: right;\">\n",
       "      <th></th>\n",
       "      <th>age</th>\n",
       "      <th>fnlwgt</th>\n",
       "      <th>education_num</th>\n",
       "      <th>capital_gain</th>\n",
       "      <th>capital_loss</th>\n",
       "      <th>hours_per_week</th>\n",
       "    </tr>\n",
       "  </thead>\n",
       "  <tbody>\n",
       "    <tr>\n",
       "      <th>count</th>\n",
       "      <td>16281.000000</td>\n",
       "      <td>1.628100e+04</td>\n",
       "      <td>16281.000000</td>\n",
       "      <td>16281.000000</td>\n",
       "      <td>16281.000000</td>\n",
       "      <td>16281.000000</td>\n",
       "    </tr>\n",
       "    <tr>\n",
       "      <th>mean</th>\n",
       "      <td>38.767459</td>\n",
       "      <td>1.894357e+05</td>\n",
       "      <td>10.072907</td>\n",
       "      <td>1081.905104</td>\n",
       "      <td>87.899269</td>\n",
       "      <td>40.392236</td>\n",
       "    </tr>\n",
       "    <tr>\n",
       "      <th>std</th>\n",
       "      <td>13.849187</td>\n",
       "      <td>1.057149e+05</td>\n",
       "      <td>2.567545</td>\n",
       "      <td>7583.935968</td>\n",
       "      <td>403.105286</td>\n",
       "      <td>12.479332</td>\n",
       "    </tr>\n",
       "    <tr>\n",
       "      <th>min</th>\n",
       "      <td>17.000000</td>\n",
       "      <td>1.349200e+04</td>\n",
       "      <td>1.000000</td>\n",
       "      <td>0.000000</td>\n",
       "      <td>0.000000</td>\n",
       "      <td>1.000000</td>\n",
       "    </tr>\n",
       "    <tr>\n",
       "      <th>25%</th>\n",
       "      <td>28.000000</td>\n",
       "      <td>1.167360e+05</td>\n",
       "      <td>9.000000</td>\n",
       "      <td>0.000000</td>\n",
       "      <td>0.000000</td>\n",
       "      <td>40.000000</td>\n",
       "    </tr>\n",
       "    <tr>\n",
       "      <th>50%</th>\n",
       "      <td>37.000000</td>\n",
       "      <td>1.778310e+05</td>\n",
       "      <td>10.000000</td>\n",
       "      <td>0.000000</td>\n",
       "      <td>0.000000</td>\n",
       "      <td>40.000000</td>\n",
       "    </tr>\n",
       "    <tr>\n",
       "      <th>75%</th>\n",
       "      <td>48.000000</td>\n",
       "      <td>2.383840e+05</td>\n",
       "      <td>12.000000</td>\n",
       "      <td>0.000000</td>\n",
       "      <td>0.000000</td>\n",
       "      <td>45.000000</td>\n",
       "    </tr>\n",
       "    <tr>\n",
       "      <th>max</th>\n",
       "      <td>90.000000</td>\n",
       "      <td>1.490400e+06</td>\n",
       "      <td>16.000000</td>\n",
       "      <td>99999.000000</td>\n",
       "      <td>3770.000000</td>\n",
       "      <td>99.000000</td>\n",
       "    </tr>\n",
       "  </tbody>\n",
       "</table>\n",
       "</div>"
      ],
      "text/plain": [
       "                age        fnlwgt  education_num  capital_gain  capital_loss  \\\n",
       "count  16281.000000  1.628100e+04   16281.000000  16281.000000  16281.000000   \n",
       "mean      38.767459  1.894357e+05      10.072907   1081.905104     87.899269   \n",
       "std       13.849187  1.057149e+05       2.567545   7583.935968    403.105286   \n",
       "min       17.000000  1.349200e+04       1.000000      0.000000      0.000000   \n",
       "25%       28.000000  1.167360e+05       9.000000      0.000000      0.000000   \n",
       "50%       37.000000  1.778310e+05      10.000000      0.000000      0.000000   \n",
       "75%       48.000000  2.383840e+05      12.000000      0.000000      0.000000   \n",
       "max       90.000000  1.490400e+06      16.000000  99999.000000   3770.000000   \n",
       "\n",
       "       hours_per_week  \n",
       "count    16281.000000  \n",
       "mean        40.392236  \n",
       "std         12.479332  \n",
       "min          1.000000  \n",
       "25%         40.000000  \n",
       "50%         40.000000  \n",
       "75%         45.000000  \n",
       "max         99.000000  "
      ]
     },
     "execution_count": 16,
     "metadata": {},
     "output_type": "execute_result"
    },
    {
     "data": {
      "text/html": [
       "<div>\n",
       "<style scoped>\n",
       "    .dataframe tbody tr th:only-of-type {\n",
       "        vertical-align: middle;\n",
       "    }\n",
       "\n",
       "    .dataframe tbody tr th {\n",
       "        vertical-align: top;\n",
       "    }\n",
       "\n",
       "    .dataframe thead th {\n",
       "        text-align: right;\n",
       "    }\n",
       "</style>\n",
       "<table border=\"1\" class=\"dataframe\">\n",
       "  <thead>\n",
       "    <tr style=\"text-align: right;\">\n",
       "      <th></th>\n",
       "      <th>work_class</th>\n",
       "      <th>education</th>\n",
       "      <th>marital_status</th>\n",
       "      <th>occupation</th>\n",
       "      <th>relationship</th>\n",
       "      <th>race</th>\n",
       "      <th>sex</th>\n",
       "      <th>native_country</th>\n",
       "      <th>income</th>\n",
       "    </tr>\n",
       "  </thead>\n",
       "  <tbody>\n",
       "    <tr>\n",
       "      <th>count</th>\n",
       "      <td>32560</td>\n",
       "      <td>32560</td>\n",
       "      <td>32560</td>\n",
       "      <td>32560</td>\n",
       "      <td>32560</td>\n",
       "      <td>32560</td>\n",
       "      <td>32560</td>\n",
       "      <td>32560</td>\n",
       "      <td>32560</td>\n",
       "    </tr>\n",
       "    <tr>\n",
       "      <th>unique</th>\n",
       "      <td>8</td>\n",
       "      <td>16</td>\n",
       "      <td>7</td>\n",
       "      <td>14</td>\n",
       "      <td>6</td>\n",
       "      <td>5</td>\n",
       "      <td>2</td>\n",
       "      <td>41</td>\n",
       "      <td>2</td>\n",
       "    </tr>\n",
       "    <tr>\n",
       "      <th>top</th>\n",
       "      <td>Private</td>\n",
       "      <td>HS-grad</td>\n",
       "      <td>Married-civ-spouse</td>\n",
       "      <td>Prof-specialty</td>\n",
       "      <td>Husband</td>\n",
       "      <td>White</td>\n",
       "      <td>Male</td>\n",
       "      <td>United-States</td>\n",
       "      <td>&lt;=50K</td>\n",
       "    </tr>\n",
       "    <tr>\n",
       "      <th>freq</th>\n",
       "      <td>24532</td>\n",
       "      <td>10501</td>\n",
       "      <td>14976</td>\n",
       "      <td>5983</td>\n",
       "      <td>13193</td>\n",
       "      <td>27815</td>\n",
       "      <td>21789</td>\n",
       "      <td>29752</td>\n",
       "      <td>24719</td>\n",
       "    </tr>\n",
       "  </tbody>\n",
       "</table>\n",
       "</div>"
      ],
      "text/plain": [
       "       work_class education       marital_status       occupation  \\\n",
       "count       32560     32560                32560            32560   \n",
       "unique          8        16                    7               14   \n",
       "top       Private   HS-grad   Married-civ-spouse   Prof-specialty   \n",
       "freq        24532     10501                14976             5983   \n",
       "\n",
       "       relationship    race    sex  native_country  income  \n",
       "count         32560   32560  32560           32560   32560  \n",
       "unique            6       5      2              41       2  \n",
       "top         Husband   White   Male   United-States   <=50K  \n",
       "freq          13193   27815  21789           29752   24719  "
      ]
     },
     "execution_count": 16,
     "metadata": {},
     "output_type": "execute_result"
    },
    {
     "data": {
      "text/html": [
       "<div>\n",
       "<style scoped>\n",
       "    .dataframe tbody tr th:only-of-type {\n",
       "        vertical-align: middle;\n",
       "    }\n",
       "\n",
       "    .dataframe tbody tr th {\n",
       "        vertical-align: top;\n",
       "    }\n",
       "\n",
       "    .dataframe thead th {\n",
       "        text-align: right;\n",
       "    }\n",
       "</style>\n",
       "<table border=\"1\" class=\"dataframe\">\n",
       "  <thead>\n",
       "    <tr style=\"text-align: right;\">\n",
       "      <th></th>\n",
       "      <th>work_class</th>\n",
       "      <th>education</th>\n",
       "      <th>marital_status</th>\n",
       "      <th>occupation</th>\n",
       "      <th>relationship</th>\n",
       "      <th>race</th>\n",
       "      <th>sex</th>\n",
       "      <th>native_country</th>\n",
       "      <th>income</th>\n",
       "    </tr>\n",
       "  </thead>\n",
       "  <tbody>\n",
       "    <tr>\n",
       "      <th>count</th>\n",
       "      <td>16281</td>\n",
       "      <td>16281</td>\n",
       "      <td>16281</td>\n",
       "      <td>16281</td>\n",
       "      <td>16281</td>\n",
       "      <td>16281</td>\n",
       "      <td>16281</td>\n",
       "      <td>16281</td>\n",
       "      <td>16281</td>\n",
       "    </tr>\n",
       "    <tr>\n",
       "      <th>unique</th>\n",
       "      <td>8</td>\n",
       "      <td>16</td>\n",
       "      <td>7</td>\n",
       "      <td>14</td>\n",
       "      <td>6</td>\n",
       "      <td>5</td>\n",
       "      <td>2</td>\n",
       "      <td>40</td>\n",
       "      <td>2</td>\n",
       "    </tr>\n",
       "    <tr>\n",
       "      <th>top</th>\n",
       "      <td>Private</td>\n",
       "      <td>HS-grad</td>\n",
       "      <td>Married-civ-spouse</td>\n",
       "      <td>Prof-specialty</td>\n",
       "      <td>Husband</td>\n",
       "      <td>White</td>\n",
       "      <td>Male</td>\n",
       "      <td>United-States</td>\n",
       "      <td>&lt;=50K.</td>\n",
       "    </tr>\n",
       "    <tr>\n",
       "      <th>freq</th>\n",
       "      <td>12173</td>\n",
       "      <td>5283</td>\n",
       "      <td>7403</td>\n",
       "      <td>2998</td>\n",
       "      <td>6523</td>\n",
       "      <td>13946</td>\n",
       "      <td>10860</td>\n",
       "      <td>14936</td>\n",
       "      <td>12435</td>\n",
       "    </tr>\n",
       "  </tbody>\n",
       "</table>\n",
       "</div>"
      ],
      "text/plain": [
       "       work_class education       marital_status       occupation  \\\n",
       "count       16281     16281                16281            16281   \n",
       "unique          8        16                    7               14   \n",
       "top       Private   HS-grad   Married-civ-spouse   Prof-specialty   \n",
       "freq        12173      5283                 7403             2998   \n",
       "\n",
       "       relationship    race    sex  native_country   income  \n",
       "count         16281   16281  16281           16281    16281  \n",
       "unique            6       5      2              40        2  \n",
       "top         Husband   White   Male   United-States   <=50K.  \n",
       "freq           6523   13946  10860           14936    12435  "
      ]
     },
     "execution_count": 16,
     "metadata": {},
     "output_type": "execute_result"
    }
   ],
   "source": [
    "df_train.describe()\n",
    "df_test.describe()\n",
    "df_train.describe(include='object')\n",
    "df_test.describe(include='object')\n"
   ]
  },
  {
   "cell_type": "markdown",
   "id": "a4f81fcb",
   "metadata": {
    "ExecuteTime": {
     "end_time": "2022-02-13T06:34:25.096445Z",
     "start_time": "2022-02-13T06:34:25.081229Z"
    }
   },
   "source": [
    "## Categorical and Continous variables in Dataset"
   ]
  },
  {
   "cell_type": "code",
   "execution_count": 17,
   "id": "50819125",
   "metadata": {
    "ExecuteTime": {
     "end_time": "2022-02-13T10:48:03.981733Z",
     "start_time": "2022-02-13T10:48:03.950495Z"
    }
   },
   "outputs": [
    {
     "data": {
      "text/plain": [
       "Index(['age', 'work_class', 'fnlwgt', 'education', 'education_num',\n",
       "       'marital_status', 'occupation', 'relationship', 'race', 'sex',\n",
       "       'capital_gain', 'capital_loss', 'hours_per_week', 'native_country',\n",
       "       'income'],\n",
       "      dtype='object')"
      ]
     },
     "execution_count": 17,
     "metadata": {},
     "output_type": "execute_result"
    },
    {
     "data": {
      "text/plain": [
       "15"
      ]
     },
     "execution_count": 17,
     "metadata": {},
     "output_type": "execute_result"
    }
   ],
   "source": [
    "df_train.columns\n",
    "len(df_train.columns)"
   ]
  },
  {
   "cell_type": "code",
   "execution_count": 18,
   "id": "a62d2b60",
   "metadata": {
    "ExecuteTime": {
     "end_time": "2022-02-13T10:48:06.036807Z",
     "start_time": "2022-02-13T10:48:04.483740Z"
    }
   },
   "outputs": [
    {
     "data": {
      "text/plain": [
       "age                   38.581634\n",
       "fnlwgt            189781.814373\n",
       "education_num         10.080590\n",
       "capital_gain        1077.615172\n",
       "capital_loss          87.306511\n",
       "hours_per_week        40.437469\n",
       "dtype: float64"
      ]
     },
     "execution_count": 18,
     "metadata": {},
     "output_type": "execute_result"
    }
   ],
   "source": [
    "df_train_backup.mean()"
   ]
  },
  {
   "cell_type": "code",
   "execution_count": 19,
   "id": "55c10939",
   "metadata": {
    "ExecuteTime": {
     "end_time": "2022-02-13T10:48:08.265984Z",
     "start_time": "2022-02-13T10:48:06.444271Z"
    }
   },
   "outputs": [
    {
     "name": "stdout",
     "output_type": "stream",
     "text": [
      "Total Number of train dataset columns = 15\n",
      "Total Number of test dataset columns = 15\n",
      "Number  of train dataset having continous = 6 columns and categorical = 9 columns\n",
      "Number  of train dataset having continous = 6 columns and categorical = 9 columns\n"
     ]
    }
   ],
   "source": [
    "train_cont_col = df_train.mean().index# train continous columns\n",
    "test_cont_col= df_test.mean().index # test continous columns\n",
    "\n",
    "train_cat_col = [i for i in df_train.columns if i not in train_cont_col] # train categorical columns\n",
    "test_cat_col = [i for i in df_train.columns if i not in test_cont_col] # test categrical columns\n",
    "\n",
    "print('Total Number of train dataset columns = {}'.format(len(df_train.columns)))\n",
    "print('Total Number of test dataset columns = {}'.format(len(df_test.columns)))\n",
    "print('Number  of train dataset having continous = {} columns and categorical = {} columns'.format(len(train_cont_col),len(train_cat_col)))\n",
    "print('Number  of train dataset having continous = {} columns and categorical = {} columns'.format(len(test_cont_col),len(test_cat_col)))"
   ]
  },
  {
   "cell_type": "code",
   "execution_count": 20,
   "id": "13cfc631",
   "metadata": {
    "ExecuteTime": {
     "end_time": "2022-02-13T10:48:08.737885Z",
     "start_time": "2022-02-13T10:48:08.722229Z"
    }
   },
   "outputs": [
    {
     "data": {
      "text/plain": [
       "Index(['age', 'fnlwgt', 'education_num', 'capital_gain', 'capital_loss',\n",
       "       'hours_per_week'],\n",
       "      dtype='object')"
      ]
     },
     "execution_count": 20,
     "metadata": {},
     "output_type": "execute_result"
    },
    {
     "data": {
      "text/plain": [
       "Index(['age', 'fnlwgt', 'education_num', 'capital_gain', 'capital_loss',\n",
       "       'hours_per_week'],\n",
       "      dtype='object')"
      ]
     },
     "execution_count": 20,
     "metadata": {},
     "output_type": "execute_result"
    }
   ],
   "source": [
    "train_cont_col\n",
    "test_cont_col"
   ]
  },
  {
   "cell_type": "code",
   "execution_count": 21,
   "id": "c850150a",
   "metadata": {
    "ExecuteTime": {
     "end_time": "2022-02-13T10:48:09.209109Z",
     "start_time": "2022-02-13T10:48:09.193333Z"
    }
   },
   "outputs": [
    {
     "data": {
      "text/plain": [
       "['work_class',\n",
       " 'education',\n",
       " 'marital_status',\n",
       " 'occupation',\n",
       " 'relationship',\n",
       " 'race',\n",
       " 'sex',\n",
       " 'native_country',\n",
       " 'income']"
      ]
     },
     "execution_count": 21,
     "metadata": {},
     "output_type": "execute_result"
    },
    {
     "data": {
      "text/plain": [
       "['work_class',\n",
       " 'education',\n",
       " 'marital_status',\n",
       " 'occupation',\n",
       " 'relationship',\n",
       " 'race',\n",
       " 'sex',\n",
       " 'native_country',\n",
       " 'income']"
      ]
     },
     "execution_count": 21,
     "metadata": {},
     "output_type": "execute_result"
    }
   ],
   "source": [
    "train_cat_col\n",
    "test_cat_col"
   ]
  },
  {
   "cell_type": "markdown",
   "id": "21be5b6b",
   "metadata": {
    "ExecuteTime": {
     "end_time": "2022-02-12T17:05:46.287543Z",
     "start_time": "2022-02-12T17:05:46.271882Z"
    }
   },
   "source": [
    "# Duplicate Values in Datasets"
   ]
  },
  {
   "cell_type": "code",
   "execution_count": 22,
   "id": "04fc3ce7",
   "metadata": {
    "ExecuteTime": {
     "end_time": "2022-02-13T10:48:11.947142Z",
     "start_time": "2022-02-13T10:48:11.868768Z"
    }
   },
   "outputs": [],
   "source": [
    "dub_train =df_train.duplicated(subset = None, keep = 'first') # train dataset has 24 duplicate records \n",
    "dub_test = df_test.duplicated(subset = None, keep = 'first')  # test dataset has 5 duplicate records"
   ]
  },
  {
   "cell_type": "code",
   "execution_count": 23,
   "id": "1f8afde9",
   "metadata": {
    "ExecuteTime": {
     "end_time": "2022-02-13T10:48:12.433686Z",
     "start_time": "2022-02-13T10:48:12.370759Z"
    }
   },
   "outputs": [
    {
     "data": {
      "text/html": [
       "<div>\n",
       "<style scoped>\n",
       "    .dataframe tbody tr th:only-of-type {\n",
       "        vertical-align: middle;\n",
       "    }\n",
       "\n",
       "    .dataframe tbody tr th {\n",
       "        vertical-align: top;\n",
       "    }\n",
       "\n",
       "    .dataframe thead th {\n",
       "        text-align: right;\n",
       "    }\n",
       "</style>\n",
       "<table border=\"1\" class=\"dataframe\">\n",
       "  <thead>\n",
       "    <tr style=\"text-align: right;\">\n",
       "      <th></th>\n",
       "      <th>age</th>\n",
       "      <th>work_class</th>\n",
       "      <th>fnlwgt</th>\n",
       "      <th>education</th>\n",
       "      <th>education_num</th>\n",
       "      <th>marital_status</th>\n",
       "      <th>occupation</th>\n",
       "      <th>relationship</th>\n",
       "      <th>race</th>\n",
       "      <th>sex</th>\n",
       "      <th>capital_gain</th>\n",
       "      <th>capital_loss</th>\n",
       "      <th>hours_per_week</th>\n",
       "      <th>native_country</th>\n",
       "      <th>income</th>\n",
       "    </tr>\n",
       "  </thead>\n",
       "  <tbody>\n",
       "    <tr>\n",
       "      <th>4880</th>\n",
       "      <td>25</td>\n",
       "      <td>Private</td>\n",
       "      <td>308144</td>\n",
       "      <td>Bachelors</td>\n",
       "      <td>13</td>\n",
       "      <td>Never-married</td>\n",
       "      <td>Craft-repair</td>\n",
       "      <td>Not-in-family</td>\n",
       "      <td>White</td>\n",
       "      <td>Male</td>\n",
       "      <td>0</td>\n",
       "      <td>0</td>\n",
       "      <td>40</td>\n",
       "      <td>Mexico</td>\n",
       "      <td>&lt;=50K</td>\n",
       "    </tr>\n",
       "    <tr>\n",
       "      <th>5103</th>\n",
       "      <td>90</td>\n",
       "      <td>Private</td>\n",
       "      <td>52386</td>\n",
       "      <td>Some-college</td>\n",
       "      <td>10</td>\n",
       "      <td>Never-married</td>\n",
       "      <td>Other-service</td>\n",
       "      <td>Not-in-family</td>\n",
       "      <td>Asian-Pac-Islander</td>\n",
       "      <td>Male</td>\n",
       "      <td>0</td>\n",
       "      <td>0</td>\n",
       "      <td>35</td>\n",
       "      <td>United-States</td>\n",
       "      <td>&lt;=50K</td>\n",
       "    </tr>\n",
       "    <tr>\n",
       "      <th>9170</th>\n",
       "      <td>21</td>\n",
       "      <td>Private</td>\n",
       "      <td>250051</td>\n",
       "      <td>Some-college</td>\n",
       "      <td>10</td>\n",
       "      <td>Never-married</td>\n",
       "      <td>Prof-specialty</td>\n",
       "      <td>Own-child</td>\n",
       "      <td>White</td>\n",
       "      <td>Female</td>\n",
       "      <td>0</td>\n",
       "      <td>0</td>\n",
       "      <td>10</td>\n",
       "      <td>United-States</td>\n",
       "      <td>&lt;=50K</td>\n",
       "    </tr>\n",
       "    <tr>\n",
       "      <th>11630</th>\n",
       "      <td>20</td>\n",
       "      <td>Private</td>\n",
       "      <td>107658</td>\n",
       "      <td>Some-college</td>\n",
       "      <td>10</td>\n",
       "      <td>Never-married</td>\n",
       "      <td>Tech-support</td>\n",
       "      <td>Not-in-family</td>\n",
       "      <td>White</td>\n",
       "      <td>Female</td>\n",
       "      <td>0</td>\n",
       "      <td>0</td>\n",
       "      <td>10</td>\n",
       "      <td>United-States</td>\n",
       "      <td>&lt;=50K</td>\n",
       "    </tr>\n",
       "    <tr>\n",
       "      <th>13083</th>\n",
       "      <td>25</td>\n",
       "      <td>Private</td>\n",
       "      <td>195994</td>\n",
       "      <td>1st-4th</td>\n",
       "      <td>2</td>\n",
       "      <td>Never-married</td>\n",
       "      <td>Priv-house-serv</td>\n",
       "      <td>Not-in-family</td>\n",
       "      <td>White</td>\n",
       "      <td>Female</td>\n",
       "      <td>0</td>\n",
       "      <td>0</td>\n",
       "      <td>40</td>\n",
       "      <td>Guatemala</td>\n",
       "      <td>&lt;=50K</td>\n",
       "    </tr>\n",
       "    <tr>\n",
       "      <th>15058</th>\n",
       "      <td>21</td>\n",
       "      <td>Private</td>\n",
       "      <td>243368</td>\n",
       "      <td>Preschool</td>\n",
       "      <td>1</td>\n",
       "      <td>Never-married</td>\n",
       "      <td>Farming-fishing</td>\n",
       "      <td>Not-in-family</td>\n",
       "      <td>White</td>\n",
       "      <td>Male</td>\n",
       "      <td>0</td>\n",
       "      <td>0</td>\n",
       "      <td>50</td>\n",
       "      <td>Mexico</td>\n",
       "      <td>&lt;=50K</td>\n",
       "    </tr>\n",
       "    <tr>\n",
       "      <th>17039</th>\n",
       "      <td>46</td>\n",
       "      <td>Private</td>\n",
       "      <td>173243</td>\n",
       "      <td>HS-grad</td>\n",
       "      <td>9</td>\n",
       "      <td>Married-civ-spouse</td>\n",
       "      <td>Craft-repair</td>\n",
       "      <td>Husband</td>\n",
       "      <td>White</td>\n",
       "      <td>Male</td>\n",
       "      <td>0</td>\n",
       "      <td>0</td>\n",
       "      <td>40</td>\n",
       "      <td>United-States</td>\n",
       "      <td>&lt;=50K</td>\n",
       "    </tr>\n",
       "    <tr>\n",
       "      <th>18554</th>\n",
       "      <td>30</td>\n",
       "      <td>Private</td>\n",
       "      <td>144593</td>\n",
       "      <td>HS-grad</td>\n",
       "      <td>9</td>\n",
       "      <td>Never-married</td>\n",
       "      <td>Other-service</td>\n",
       "      <td>Not-in-family</td>\n",
       "      <td>Black</td>\n",
       "      <td>Male</td>\n",
       "      <td>0</td>\n",
       "      <td>0</td>\n",
       "      <td>40</td>\n",
       "      <td>United-States</td>\n",
       "      <td>&lt;=50K</td>\n",
       "    </tr>\n",
       "    <tr>\n",
       "      <th>18697</th>\n",
       "      <td>19</td>\n",
       "      <td>Private</td>\n",
       "      <td>97261</td>\n",
       "      <td>HS-grad</td>\n",
       "      <td>9</td>\n",
       "      <td>Never-married</td>\n",
       "      <td>Farming-fishing</td>\n",
       "      <td>Not-in-family</td>\n",
       "      <td>White</td>\n",
       "      <td>Male</td>\n",
       "      <td>0</td>\n",
       "      <td>0</td>\n",
       "      <td>40</td>\n",
       "      <td>United-States</td>\n",
       "      <td>&lt;=50K</td>\n",
       "    </tr>\n",
       "    <tr>\n",
       "      <th>21317</th>\n",
       "      <td>19</td>\n",
       "      <td>Private</td>\n",
       "      <td>138153</td>\n",
       "      <td>Some-college</td>\n",
       "      <td>10</td>\n",
       "      <td>Never-married</td>\n",
       "      <td>Adm-clerical</td>\n",
       "      <td>Own-child</td>\n",
       "      <td>White</td>\n",
       "      <td>Female</td>\n",
       "      <td>0</td>\n",
       "      <td>0</td>\n",
       "      <td>10</td>\n",
       "      <td>United-States</td>\n",
       "      <td>&lt;=50K</td>\n",
       "    </tr>\n",
       "    <tr>\n",
       "      <th>21489</th>\n",
       "      <td>19</td>\n",
       "      <td>Private</td>\n",
       "      <td>146679</td>\n",
       "      <td>Some-college</td>\n",
       "      <td>10</td>\n",
       "      <td>Never-married</td>\n",
       "      <td>Exec-managerial</td>\n",
       "      <td>Own-child</td>\n",
       "      <td>Black</td>\n",
       "      <td>Male</td>\n",
       "      <td>0</td>\n",
       "      <td>0</td>\n",
       "      <td>30</td>\n",
       "      <td>United-States</td>\n",
       "      <td>&lt;=50K</td>\n",
       "    </tr>\n",
       "    <tr>\n",
       "      <th>21874</th>\n",
       "      <td>49</td>\n",
       "      <td>Private</td>\n",
       "      <td>31267</td>\n",
       "      <td>7th-8th</td>\n",
       "      <td>4</td>\n",
       "      <td>Married-civ-spouse</td>\n",
       "      <td>Craft-repair</td>\n",
       "      <td>Husband</td>\n",
       "      <td>White</td>\n",
       "      <td>Male</td>\n",
       "      <td>0</td>\n",
       "      <td>0</td>\n",
       "      <td>40</td>\n",
       "      <td>United-States</td>\n",
       "      <td>&lt;=50K</td>\n",
       "    </tr>\n",
       "    <tr>\n",
       "      <th>22299</th>\n",
       "      <td>25</td>\n",
       "      <td>Private</td>\n",
       "      <td>195994</td>\n",
       "      <td>1st-4th</td>\n",
       "      <td>2</td>\n",
       "      <td>Never-married</td>\n",
       "      <td>Priv-house-serv</td>\n",
       "      <td>Not-in-family</td>\n",
       "      <td>White</td>\n",
       "      <td>Female</td>\n",
       "      <td>0</td>\n",
       "      <td>0</td>\n",
       "      <td>40</td>\n",
       "      <td>Guatemala</td>\n",
       "      <td>&lt;=50K</td>\n",
       "    </tr>\n",
       "    <tr>\n",
       "      <th>22366</th>\n",
       "      <td>44</td>\n",
       "      <td>Private</td>\n",
       "      <td>367749</td>\n",
       "      <td>Bachelors</td>\n",
       "      <td>13</td>\n",
       "      <td>Never-married</td>\n",
       "      <td>Prof-specialty</td>\n",
       "      <td>Not-in-family</td>\n",
       "      <td>White</td>\n",
       "      <td>Female</td>\n",
       "      <td>0</td>\n",
       "      <td>0</td>\n",
       "      <td>45</td>\n",
       "      <td>Mexico</td>\n",
       "      <td>&lt;=50K</td>\n",
       "    </tr>\n",
       "    <tr>\n",
       "      <th>22493</th>\n",
       "      <td>49</td>\n",
       "      <td>Self-emp-not-inc</td>\n",
       "      <td>43479</td>\n",
       "      <td>Some-college</td>\n",
       "      <td>10</td>\n",
       "      <td>Married-civ-spouse</td>\n",
       "      <td>Craft-repair</td>\n",
       "      <td>Husband</td>\n",
       "      <td>White</td>\n",
       "      <td>Male</td>\n",
       "      <td>0</td>\n",
       "      <td>0</td>\n",
       "      <td>40</td>\n",
       "      <td>United-States</td>\n",
       "      <td>&lt;=50K</td>\n",
       "    </tr>\n",
       "    <tr>\n",
       "      <th>25871</th>\n",
       "      <td>23</td>\n",
       "      <td>Private</td>\n",
       "      <td>240137</td>\n",
       "      <td>5th-6th</td>\n",
       "      <td>3</td>\n",
       "      <td>Never-married</td>\n",
       "      <td>Handlers-cleaners</td>\n",
       "      <td>Not-in-family</td>\n",
       "      <td>White</td>\n",
       "      <td>Male</td>\n",
       "      <td>0</td>\n",
       "      <td>0</td>\n",
       "      <td>55</td>\n",
       "      <td>Mexico</td>\n",
       "      <td>&lt;=50K</td>\n",
       "    </tr>\n",
       "    <tr>\n",
       "      <th>26312</th>\n",
       "      <td>28</td>\n",
       "      <td>Private</td>\n",
       "      <td>274679</td>\n",
       "      <td>Masters</td>\n",
       "      <td>14</td>\n",
       "      <td>Never-married</td>\n",
       "      <td>Prof-specialty</td>\n",
       "      <td>Not-in-family</td>\n",
       "      <td>White</td>\n",
       "      <td>Male</td>\n",
       "      <td>0</td>\n",
       "      <td>0</td>\n",
       "      <td>50</td>\n",
       "      <td>United-States</td>\n",
       "      <td>&lt;=50K</td>\n",
       "    </tr>\n",
       "    <tr>\n",
       "      <th>28229</th>\n",
       "      <td>27</td>\n",
       "      <td>Private</td>\n",
       "      <td>255582</td>\n",
       "      <td>HS-grad</td>\n",
       "      <td>9</td>\n",
       "      <td>Never-married</td>\n",
       "      <td>Machine-op-inspct</td>\n",
       "      <td>Not-in-family</td>\n",
       "      <td>White</td>\n",
       "      <td>Female</td>\n",
       "      <td>0</td>\n",
       "      <td>0</td>\n",
       "      <td>40</td>\n",
       "      <td>United-States</td>\n",
       "      <td>&lt;=50K</td>\n",
       "    </tr>\n",
       "    <tr>\n",
       "      <th>28521</th>\n",
       "      <td>42</td>\n",
       "      <td>Private</td>\n",
       "      <td>204235</td>\n",
       "      <td>Some-college</td>\n",
       "      <td>10</td>\n",
       "      <td>Married-civ-spouse</td>\n",
       "      <td>Prof-specialty</td>\n",
       "      <td>Husband</td>\n",
       "      <td>White</td>\n",
       "      <td>Male</td>\n",
       "      <td>0</td>\n",
       "      <td>0</td>\n",
       "      <td>40</td>\n",
       "      <td>United-States</td>\n",
       "      <td>&gt;50K</td>\n",
       "    </tr>\n",
       "    <tr>\n",
       "      <th>28845</th>\n",
       "      <td>39</td>\n",
       "      <td>Private</td>\n",
       "      <td>30916</td>\n",
       "      <td>HS-grad</td>\n",
       "      <td>9</td>\n",
       "      <td>Married-civ-spouse</td>\n",
       "      <td>Craft-repair</td>\n",
       "      <td>Husband</td>\n",
       "      <td>White</td>\n",
       "      <td>Male</td>\n",
       "      <td>0</td>\n",
       "      <td>0</td>\n",
       "      <td>40</td>\n",
       "      <td>United-States</td>\n",
       "      <td>&lt;=50K</td>\n",
       "    </tr>\n",
       "    <tr>\n",
       "      <th>29156</th>\n",
       "      <td>38</td>\n",
       "      <td>Private</td>\n",
       "      <td>207202</td>\n",
       "      <td>HS-grad</td>\n",
       "      <td>9</td>\n",
       "      <td>Married-civ-spouse</td>\n",
       "      <td>Machine-op-inspct</td>\n",
       "      <td>Husband</td>\n",
       "      <td>White</td>\n",
       "      <td>Male</td>\n",
       "      <td>0</td>\n",
       "      <td>0</td>\n",
       "      <td>48</td>\n",
       "      <td>United-States</td>\n",
       "      <td>&gt;50K</td>\n",
       "    </tr>\n",
       "    <tr>\n",
       "      <th>30844</th>\n",
       "      <td>46</td>\n",
       "      <td>Private</td>\n",
       "      <td>133616</td>\n",
       "      <td>Some-college</td>\n",
       "      <td>10</td>\n",
       "      <td>Divorced</td>\n",
       "      <td>Adm-clerical</td>\n",
       "      <td>Unmarried</td>\n",
       "      <td>White</td>\n",
       "      <td>Female</td>\n",
       "      <td>0</td>\n",
       "      <td>0</td>\n",
       "      <td>40</td>\n",
       "      <td>United-States</td>\n",
       "      <td>&lt;=50K</td>\n",
       "    </tr>\n",
       "    <tr>\n",
       "      <th>31992</th>\n",
       "      <td>19</td>\n",
       "      <td>Private</td>\n",
       "      <td>251579</td>\n",
       "      <td>Some-college</td>\n",
       "      <td>10</td>\n",
       "      <td>Never-married</td>\n",
       "      <td>Other-service</td>\n",
       "      <td>Own-child</td>\n",
       "      <td>White</td>\n",
       "      <td>Male</td>\n",
       "      <td>0</td>\n",
       "      <td>0</td>\n",
       "      <td>14</td>\n",
       "      <td>United-States</td>\n",
       "      <td>&lt;=50K</td>\n",
       "    </tr>\n",
       "    <tr>\n",
       "      <th>32403</th>\n",
       "      <td>35</td>\n",
       "      <td>Private</td>\n",
       "      <td>379959</td>\n",
       "      <td>HS-grad</td>\n",
       "      <td>9</td>\n",
       "      <td>Divorced</td>\n",
       "      <td>Other-service</td>\n",
       "      <td>Not-in-family</td>\n",
       "      <td>White</td>\n",
       "      <td>Female</td>\n",
       "      <td>0</td>\n",
       "      <td>0</td>\n",
       "      <td>40</td>\n",
       "      <td>United-States</td>\n",
       "      <td>&lt;=50K</td>\n",
       "    </tr>\n",
       "  </tbody>\n",
       "</table>\n",
       "</div>"
      ],
      "text/plain": [
       "       age         work_class  fnlwgt      education  education_num  \\\n",
       "4880    25            Private  308144      Bachelors             13   \n",
       "5103    90            Private   52386   Some-college             10   \n",
       "9170    21            Private  250051   Some-college             10   \n",
       "11630   20            Private  107658   Some-college             10   \n",
       "13083   25            Private  195994        1st-4th              2   \n",
       "15058   21            Private  243368      Preschool              1   \n",
       "17039   46            Private  173243        HS-grad              9   \n",
       "18554   30            Private  144593        HS-grad              9   \n",
       "18697   19            Private   97261        HS-grad              9   \n",
       "21317   19            Private  138153   Some-college             10   \n",
       "21489   19            Private  146679   Some-college             10   \n",
       "21874   49            Private   31267        7th-8th              4   \n",
       "22299   25            Private  195994        1st-4th              2   \n",
       "22366   44            Private  367749      Bachelors             13   \n",
       "22493   49   Self-emp-not-inc   43479   Some-college             10   \n",
       "25871   23            Private  240137        5th-6th              3   \n",
       "26312   28            Private  274679        Masters             14   \n",
       "28229   27            Private  255582        HS-grad              9   \n",
       "28521   42            Private  204235   Some-college             10   \n",
       "28845   39            Private   30916        HS-grad              9   \n",
       "29156   38            Private  207202        HS-grad              9   \n",
       "30844   46            Private  133616   Some-college             10   \n",
       "31992   19            Private  251579   Some-college             10   \n",
       "32403   35            Private  379959        HS-grad              9   \n",
       "\n",
       "            marital_status          occupation    relationship  \\\n",
       "4880         Never-married        Craft-repair   Not-in-family   \n",
       "5103         Never-married       Other-service   Not-in-family   \n",
       "9170         Never-married      Prof-specialty       Own-child   \n",
       "11630        Never-married        Tech-support   Not-in-family   \n",
       "13083        Never-married     Priv-house-serv   Not-in-family   \n",
       "15058        Never-married     Farming-fishing   Not-in-family   \n",
       "17039   Married-civ-spouse        Craft-repair         Husband   \n",
       "18554        Never-married       Other-service   Not-in-family   \n",
       "18697        Never-married     Farming-fishing   Not-in-family   \n",
       "21317        Never-married        Adm-clerical       Own-child   \n",
       "21489        Never-married     Exec-managerial       Own-child   \n",
       "21874   Married-civ-spouse        Craft-repair         Husband   \n",
       "22299        Never-married     Priv-house-serv   Not-in-family   \n",
       "22366        Never-married      Prof-specialty   Not-in-family   \n",
       "22493   Married-civ-spouse        Craft-repair         Husband   \n",
       "25871        Never-married   Handlers-cleaners   Not-in-family   \n",
       "26312        Never-married      Prof-specialty   Not-in-family   \n",
       "28229        Never-married   Machine-op-inspct   Not-in-family   \n",
       "28521   Married-civ-spouse      Prof-specialty         Husband   \n",
       "28845   Married-civ-spouse        Craft-repair         Husband   \n",
       "29156   Married-civ-spouse   Machine-op-inspct         Husband   \n",
       "30844             Divorced        Adm-clerical       Unmarried   \n",
       "31992        Never-married       Other-service       Own-child   \n",
       "32403             Divorced       Other-service   Not-in-family   \n",
       "\n",
       "                      race      sex  capital_gain  capital_loss  \\\n",
       "4880                 White     Male             0             0   \n",
       "5103    Asian-Pac-Islander     Male             0             0   \n",
       "9170                 White   Female             0             0   \n",
       "11630                White   Female             0             0   \n",
       "13083                White   Female             0             0   \n",
       "15058                White     Male             0             0   \n",
       "17039                White     Male             0             0   \n",
       "18554                Black     Male             0             0   \n",
       "18697                White     Male             0             0   \n",
       "21317                White   Female             0             0   \n",
       "21489                Black     Male             0             0   \n",
       "21874                White     Male             0             0   \n",
       "22299                White   Female             0             0   \n",
       "22366                White   Female             0             0   \n",
       "22493                White     Male             0             0   \n",
       "25871                White     Male             0             0   \n",
       "26312                White     Male             0             0   \n",
       "28229                White   Female             0             0   \n",
       "28521                White     Male             0             0   \n",
       "28845                White     Male             0             0   \n",
       "29156                White     Male             0             0   \n",
       "30844                White   Female             0             0   \n",
       "31992                White     Male             0             0   \n",
       "32403                White   Female             0             0   \n",
       "\n",
       "       hours_per_week  native_country  income  \n",
       "4880               40          Mexico   <=50K  \n",
       "5103               35   United-States   <=50K  \n",
       "9170               10   United-States   <=50K  \n",
       "11630              10   United-States   <=50K  \n",
       "13083              40       Guatemala   <=50K  \n",
       "15058              50          Mexico   <=50K  \n",
       "17039              40   United-States   <=50K  \n",
       "18554              40   United-States   <=50K  \n",
       "18697              40   United-States   <=50K  \n",
       "21317              10   United-States   <=50K  \n",
       "21489              30   United-States   <=50K  \n",
       "21874              40   United-States   <=50K  \n",
       "22299              40       Guatemala   <=50K  \n",
       "22366              45          Mexico   <=50K  \n",
       "22493              40   United-States   <=50K  \n",
       "25871              55          Mexico   <=50K  \n",
       "26312              50   United-States   <=50K  \n",
       "28229              40   United-States   <=50K  \n",
       "28521              40   United-States    >50K  \n",
       "28845              40   United-States   <=50K  \n",
       "29156              48   United-States    >50K  \n",
       "30844              40   United-States   <=50K  \n",
       "31992              14   United-States   <=50K  \n",
       "32403              40   United-States   <=50K  "
      ]
     },
     "execution_count": 23,
     "metadata": {},
     "output_type": "execute_result"
    },
    {
     "data": {
      "text/html": [
       "<div>\n",
       "<style scoped>\n",
       "    .dataframe tbody tr th:only-of-type {\n",
       "        vertical-align: middle;\n",
       "    }\n",
       "\n",
       "    .dataframe tbody tr th {\n",
       "        vertical-align: top;\n",
       "    }\n",
       "\n",
       "    .dataframe thead th {\n",
       "        text-align: right;\n",
       "    }\n",
       "</style>\n",
       "<table border=\"1\" class=\"dataframe\">\n",
       "  <thead>\n",
       "    <tr style=\"text-align: right;\">\n",
       "      <th></th>\n",
       "      <th>age</th>\n",
       "      <th>work_class</th>\n",
       "      <th>fnlwgt</th>\n",
       "      <th>education</th>\n",
       "      <th>education_num</th>\n",
       "      <th>marital_status</th>\n",
       "      <th>occupation</th>\n",
       "      <th>relationship</th>\n",
       "      <th>race</th>\n",
       "      <th>sex</th>\n",
       "      <th>capital_gain</th>\n",
       "      <th>capital_loss</th>\n",
       "      <th>hours_per_week</th>\n",
       "      <th>native_country</th>\n",
       "      <th>income</th>\n",
       "    </tr>\n",
       "  </thead>\n",
       "  <tbody>\n",
       "    <tr>\n",
       "      <th>864</th>\n",
       "      <td>24</td>\n",
       "      <td>Private</td>\n",
       "      <td>194630</td>\n",
       "      <td>Bachelors</td>\n",
       "      <td>13</td>\n",
       "      <td>Never-married</td>\n",
       "      <td>Prof-specialty</td>\n",
       "      <td>Not-in-family</td>\n",
       "      <td>White</td>\n",
       "      <td>Male</td>\n",
       "      <td>0</td>\n",
       "      <td>0</td>\n",
       "      <td>35</td>\n",
       "      <td>United-States</td>\n",
       "      <td>&lt;=50K.</td>\n",
       "    </tr>\n",
       "    <tr>\n",
       "      <th>11189</th>\n",
       "      <td>37</td>\n",
       "      <td>Private</td>\n",
       "      <td>52870</td>\n",
       "      <td>Bachelors</td>\n",
       "      <td>13</td>\n",
       "      <td>Married-civ-spouse</td>\n",
       "      <td>Exec-managerial</td>\n",
       "      <td>Husband</td>\n",
       "      <td>White</td>\n",
       "      <td>Male</td>\n",
       "      <td>0</td>\n",
       "      <td>0</td>\n",
       "      <td>40</td>\n",
       "      <td>United-States</td>\n",
       "      <td>&lt;=50K.</td>\n",
       "    </tr>\n",
       "    <tr>\n",
       "      <th>11212</th>\n",
       "      <td>29</td>\n",
       "      <td>Private</td>\n",
       "      <td>36440</td>\n",
       "      <td>Bachelors</td>\n",
       "      <td>13</td>\n",
       "      <td>Never-married</td>\n",
       "      <td>Adm-clerical</td>\n",
       "      <td>Not-in-family</td>\n",
       "      <td>White</td>\n",
       "      <td>Female</td>\n",
       "      <td>0</td>\n",
       "      <td>0</td>\n",
       "      <td>40</td>\n",
       "      <td>United-States</td>\n",
       "      <td>&lt;=50K.</td>\n",
       "    </tr>\n",
       "    <tr>\n",
       "      <th>13848</th>\n",
       "      <td>30</td>\n",
       "      <td>Private</td>\n",
       "      <td>180317</td>\n",
       "      <td>Assoc-voc</td>\n",
       "      <td>11</td>\n",
       "      <td>Divorced</td>\n",
       "      <td>Machine-op-inspct</td>\n",
       "      <td>Not-in-family</td>\n",
       "      <td>White</td>\n",
       "      <td>Male</td>\n",
       "      <td>0</td>\n",
       "      <td>0</td>\n",
       "      <td>40</td>\n",
       "      <td>United-States</td>\n",
       "      <td>&lt;=50K.</td>\n",
       "    </tr>\n",
       "    <tr>\n",
       "      <th>15960</th>\n",
       "      <td>18</td>\n",
       "      <td>Self-emp-inc</td>\n",
       "      <td>378036</td>\n",
       "      <td>12th</td>\n",
       "      <td>8</td>\n",
       "      <td>Never-married</td>\n",
       "      <td>Farming-fishing</td>\n",
       "      <td>Own-child</td>\n",
       "      <td>White</td>\n",
       "      <td>Male</td>\n",
       "      <td>0</td>\n",
       "      <td>0</td>\n",
       "      <td>10</td>\n",
       "      <td>United-States</td>\n",
       "      <td>&lt;=50K.</td>\n",
       "    </tr>\n",
       "  </tbody>\n",
       "</table>\n",
       "</div>"
      ],
      "text/plain": [
       "       age     work_class  fnlwgt   education  education_num  \\\n",
       "864     24        Private  194630   Bachelors             13   \n",
       "11189   37        Private   52870   Bachelors             13   \n",
       "11212   29        Private   36440   Bachelors             13   \n",
       "13848   30        Private  180317   Assoc-voc             11   \n",
       "15960   18   Self-emp-inc  378036        12th              8   \n",
       "\n",
       "            marital_status          occupation    relationship    race  \\\n",
       "864          Never-married      Prof-specialty   Not-in-family   White   \n",
       "11189   Married-civ-spouse     Exec-managerial         Husband   White   \n",
       "11212        Never-married        Adm-clerical   Not-in-family   White   \n",
       "13848             Divorced   Machine-op-inspct   Not-in-family   White   \n",
       "15960        Never-married     Farming-fishing       Own-child   White   \n",
       "\n",
       "           sex  capital_gain  capital_loss  hours_per_week  native_country  \\\n",
       "864       Male             0             0              35   United-States   \n",
       "11189     Male             0             0              40   United-States   \n",
       "11212   Female             0             0              40   United-States   \n",
       "13848     Male             0             0              40   United-States   \n",
       "15960     Male             0             0              10   United-States   \n",
       "\n",
       "        income  \n",
       "864     <=50K.  \n",
       "11189   <=50K.  \n",
       "11212   <=50K.  \n",
       "13848   <=50K.  \n",
       "15960   <=50K.  "
      ]
     },
     "execution_count": 23,
     "metadata": {},
     "output_type": "execute_result"
    }
   ],
   "source": [
    "df_train[dub_train] # duplicate records of train dataset\n",
    "df_test[dub_test] # duplicate records of train dataset"
   ]
  },
  {
   "cell_type": "markdown",
   "id": "bedb3c30",
   "metadata": {},
   "source": [
    "## droping duplicates"
   ]
  },
  {
   "cell_type": "markdown",
   "id": "c993e603",
   "metadata": {},
   "source": [
    "<li>it's always a great notion of thought to remove duplicate data points from the dataset so the model can better generalize.</li>"
   ]
  },
  {
   "cell_type": "code",
   "execution_count": 24,
   "id": "4ceb3e34",
   "metadata": {
    "ExecuteTime": {
     "end_time": "2022-02-13T10:48:14.148214Z",
     "start_time": "2022-02-13T10:48:14.054063Z"
    }
   },
   "outputs": [],
   "source": [
    "df_train.drop_duplicates(inplace = True) # dropping dupicates\n",
    "df_test.drop_duplicates(inplace = True)"
   ]
  },
  {
   "cell_type": "code",
   "execution_count": 25,
   "id": "eda73d4b",
   "metadata": {
    "ExecuteTime": {
     "end_time": "2022-02-13T10:48:14.697280Z",
     "start_time": "2022-02-13T10:48:14.619641Z"
    }
   },
   "outputs": [
    {
     "data": {
      "text/plain": [
       "0"
      ]
     },
     "execution_count": 25,
     "metadata": {},
     "output_type": "execute_result"
    },
    {
     "data": {
      "text/plain": [
       "0"
      ]
     },
     "execution_count": 25,
     "metadata": {},
     "output_type": "execute_result"
    }
   ],
   "source": [
    "df_train.duplicated().sum() # now zero duplicates in the train and test\n",
    "df_test.duplicated().sum()"
   ]
  },
  {
   "cell_type": "markdown",
   "id": "8d0b1f77",
   "metadata": {},
   "source": [
    "# Outlier Treatment"
   ]
  },
  {
   "cell_type": "markdown",
   "id": "4dd30da9",
   "metadata": {
    "ExecuteTime": {
     "end_time": "2022-02-13T07:28:09.982836Z",
     "start_time": "2022-02-13T07:28:09.950826Z"
    }
   },
   "source": [
    "<lli>If outlier treatment is applied on this data set then the accuracy on linear regression is 43.76% which is model does not perform well so for this dataset </li>\n",
    "<lil>outliers are not that effect for the generalization of the model.</lil>"
   ]
  },
  {
   "cell_type": "code",
   "execution_count": 26,
   "id": "26d4f064",
   "metadata": {
    "ExecuteTime": {
     "end_time": "2022-02-13T10:48:19.470654Z",
     "start_time": "2022-02-13T10:48:16.001378Z"
    }
   },
   "outputs": [],
   "source": [
    "import numpy as np\n",
    "all_outliers=[]\n",
    "df_train_outliers = pd.DataFrame()\n",
    "def outliers(df_train):\n",
    "    for i in df_train[train_cont_col]:\n",
    "        q1=np.quantile(df_train[i].values,0.25)\n",
    "        q3=np.quantile(df_train[i].values,0.75)\n",
    "        iqr=q3-q1\n",
    "        utv=q3+1.5*(iqr)\n",
    "        ltv=q1-1.5*(iqr)\n",
    "        outliers_data=[]\n",
    "        x=[]\n",
    "        for j in df_train[i].values:\n",
    "            if (j<ltv) or (j>utv):\n",
    "                all_outliers.append(j)\n",
    "                x.append(df_train[i].median())\n",
    "            else:\n",
    "                x.append(j)\n",
    "        all_outliers.append([i,outliers_data])\n",
    "        df_train_outliers[i]=x\n",
    "outliers(df_train)"
   ]
  },
  {
   "cell_type": "code",
   "execution_count": 27,
   "id": "0ed70e52",
   "metadata": {
    "ExecuteTime": {
     "end_time": "2022-02-13T10:48:20.020458Z",
     "start_time": "2022-02-13T10:48:20.004708Z"
    }
   },
   "outputs": [
    {
     "data": {
      "text/plain": [
       "[array([50., 38., 53., 28., 37., 49., 52., 31., 42., 30., 23., 32., 40.,\n",
       "        34., 25., 43., 54., 35., 59., 56., 19., 39., 20., 45., 22., 48.,\n",
       "        21., 24., 57., 44., 41., 29., 18., 47., 46., 36., 27., 67., 33.,\n",
       "        76., 17., 55., 61., 70., 64., 71., 68., 66., 51., 58., 26., 60.,\n",
       "        75., 65., 77., 62., 63., 72., 74., 69., 73., 78.]),\n",
       " array([ 83311., 215646., 234721., ...,  34066.,  84661., 257302.]),\n",
       " array([13.,  9.,  7., 14.,  5., 10., 12., 11., 16., 15.,  6.,  8.]),\n",
       " array([0.]),\n",
       " array([0.]),\n",
       " array([40., 45., 50., 35., 52., 44., 38., 43., 48., 41., 36., 46., 42.,\n",
       "        34., 33., 47., 37., 39., 49., 51.])]"
      ]
     },
     "execution_count": 27,
     "metadata": {},
     "output_type": "execute_result"
    }
   ],
   "source": [
    "[df_train_outliers[i].unique() for i in df_train_outliers]"
   ]
  },
  {
   "cell_type": "markdown",
   "id": "5bebcbc5",
   "metadata": {
    "ExecuteTime": {
     "end_time": "2022-02-13T07:33:21.178851Z",
     "start_time": "2022-02-13T07:33:21.163221Z"
    }
   },
   "source": [
    "<li> Observations: If the outliers are exsist in dataset, great care should be taken, because even the domain expertise would get confuse in some scenarios.</li>\n",
    "<li>Though here there are outliers in the data but have to consider them and with removing them resulting a dumb model</li>"
   ]
  },
  {
   "cell_type": "code",
   "execution_count": 28,
   "id": "9f8b8486",
   "metadata": {
    "ExecuteTime": {
     "end_time": "2022-02-13T10:48:20.758261Z",
     "start_time": "2022-02-13T10:48:20.601329Z"
    }
   },
   "outputs": [
    {
     "data": {
      "text/plain": [
       "<AxesSubplot:xlabel='age'>"
      ]
     },
     "execution_count": 28,
     "metadata": {},
     "output_type": "execute_result"
    },
    {
     "data": {
      "text/plain": [
       "Text(0.5, 1.0, 'Detecting outliers using Boxplot')"
      ]
     },
     "execution_count": 28,
     "metadata": {},
     "output_type": "execute_result"
    },
    {
     "data": {
      "text/plain": [
       "Text(0.5, 0, 'age_outliers')"
      ]
     },
     "execution_count": 28,
     "metadata": {},
     "output_type": "execute_result"
    },
    {
     "data": {
      "image/png": "[encoded data removed]",
      "text/plain": [
       "<Figure size 432x288 with 1 Axes>"
      ]
     },
     "metadata": {
      "needs_background": "light"
     },
     "output_type": "display_data"
    }
   ],
   "source": [
    "sns.boxplot(df_train_backup.age) \n",
    "plt.title(\"Detecting outliers using Boxplot\")\n",
    "plt.xlabel('age_outliers')\n",
    "# Observations : there seems to be no outliers in age attribute but a human life span \n",
    "# could be up to 100years which is not to consider the above 80 years as outliers in this plot"
   ]
  },
  {
   "cell_type": "code",
   "execution_count": 29,
   "id": "e423b97b",
   "metadata": {
    "ExecuteTime": {
     "end_time": "2022-02-13T10:48:21.480032Z",
     "start_time": "2022-02-13T10:48:21.322769Z"
    }
   },
   "outputs": [
    {
     "data": {
      "text/plain": [
       "<AxesSubplot:xlabel='fnlwgt'>"
      ]
     },
     "execution_count": 29,
     "metadata": {},
     "output_type": "execute_result"
    },
    {
     "data": {
      "text/plain": [
       "Text(0.5, 1.0, 'Detecting outliers using Boxplot')"
      ]
     },
     "execution_count": 29,
     "metadata": {},
     "output_type": "execute_result"
    },
    {
     "data": {
      "text/plain": [
       "Text(0.5, 0, 'fnlwgt_outliers')"
      ]
     },
     "execution_count": 29,
     "metadata": {},
     "output_type": "execute_result"
    },
    {
     "data": {
      "image/png": "[encoded data removed]",
      "text/plain": [
       "<Figure size 432x288 with 1 Axes>"
      ]
     },
     "metadata": {
      "needs_background": "light"
     },
     "output_type": "display_data"
    }
   ],
   "source": [
    "sns.boxplot(df_train_backup.fnlwgt)\n",
    "plt.title(\"Detecting outliers using Boxplot\")\n",
    "plt.xlabel('fnlwgt_outliers')"
   ]
  },
  {
   "cell_type": "markdown",
   "id": "f86d9cf7",
   "metadata": {},
   "source": [
    " fnlwgt is the weights on the current population survey in U.S based on following \n",
    "     A single cell estimate of the population 16+ for each state.\n",
    "     Controls for Hispanic Origin by age and sex.\n",
    "     Controls by Race, age and sex.\n",
    "\n",
    "Observations : Outliers in this could be also should handled by the domain experty."
   ]
  },
  {
   "cell_type": "code",
   "execution_count": 30,
   "id": "8e522513",
   "metadata": {
    "ExecuteTime": {
     "end_time": "2022-02-13T10:48:22.155130Z",
     "start_time": "2022-02-13T10:48:22.028824Z"
    }
   },
   "outputs": [
    {
     "data": {
      "text/plain": [
       "<AxesSubplot:xlabel='capital_loss'>"
      ]
     },
     "execution_count": 30,
     "metadata": {},
     "output_type": "execute_result"
    },
    {
     "data": {
      "text/plain": [
       "Text(0.5, 1.0, 'Detecting outliers using Boxplot')"
      ]
     },
     "execution_count": 30,
     "metadata": {},
     "output_type": "execute_result"
    },
    {
     "data": {
      "text/plain": [
       "Text(0.5, 0, 'capital_loss_outliers')"
      ]
     },
     "execution_count": 30,
     "metadata": {},
     "output_type": "execute_result"
    },
    {
     "data": {
      "image/png": "[encoded data removed]",
      "text/plain": [
       "<Figure size 432x288 with 1 Axes>"
      ]
     },
     "metadata": {
      "needs_background": "light"
     },
     "output_type": "display_data"
    }
   ],
   "source": [
    "sns.boxplot(df_train_backup.capital_loss) # in here Outliers are away more than the \n",
    "plt.title(\"Detecting outliers using Boxplot\")\n",
    "plt.xlabel('capital_loss_outliers')"
   ]
  },
  {
   "cell_type": "markdown",
   "id": "47d1002c",
   "metadata": {
    "ExecuteTime": {
     "end_time": "2022-02-13T07:47:37.622196Z",
     "start_time": "2022-02-13T07:47:37.612044Z"
    }
   },
   "source": [
    "## Effect of performing outliers on this perticular dataset"
   ]
  },
  {
   "cell_type": "code",
   "execution_count": 31,
   "id": "77998972",
   "metadata": {
    "ExecuteTime": {
     "end_time": "2022-02-13T10:48:23.002780Z",
     "start_time": "2022-02-13T10:48:22.971961Z"
    }
   },
   "outputs": [
    {
     "data": {
      "text/plain": [
       "0       31041\n",
       "1902      202\n",
       "1977      168\n",
       "1887      159\n",
       "1485       51\n",
       "        ...  \n",
       "2467        1\n",
       "1539        1\n",
       "155         1\n",
       "2282        1\n",
       "1411        1\n",
       "Name: capital_loss, Length: 92, dtype: int64"
      ]
     },
     "execution_count": 31,
     "metadata": {},
     "output_type": "execute_result"
    },
    {
     "name": "stdout",
     "output_type": "stream",
     "text": [
      "value count of zeros in the capital_loss attricute is 95.40508974674206\n",
      "value count of zeros in the capital_gain attricute is 91.74145561839194\n"
     ]
    }
   ],
   "source": [
    "df_train_backup.capital_loss.value_counts()\n",
    "print('value count of zeros in the capital_loss attricute is {}'.format(\n",
    "    (df_train_backup.capital_loss.value_counts()[0] /\n",
    "    df_train.capital_loss.count())*100))\n",
    "print('value count of zeros in the capital_gain attricute is {}'.format(\n",
    "    (df_train_backup.capital_gain.value_counts()[0] /\n",
    "    df_train.capital_gain.count())*100))\n",
    "# the value count of 0 is captial_loss and capital_gain is more than 90% values in the \n",
    "# columns so if outliers are appiled than the hole columns has got to remove the values"
   ]
  },
  {
   "cell_type": "code",
   "execution_count": 32,
   "id": "291fc933",
   "metadata": {
    "ExecuteTime": {
     "end_time": "2022-02-13T10:48:23.856320Z",
     "start_time": "2022-02-13T10:48:23.804961Z"
    }
   },
   "outputs": [
    {
     "data": {
      "text/plain": [
       "[[array([50, 38, 53, 28, 37, 49, 52, 31, 42, 30, 23, 32, 40, 34, 25, 43, 54,\n",
       "         35, 59, 56, 19, 39, 20, 45, 22, 48, 21, 24, 57, 44, 41, 29, 18, 47,\n",
       "         46, 36, 79, 27, 67, 33, 76, 17, 55, 61, 70, 64, 71, 68, 66, 51, 58,\n",
       "         26, 60, 90, 75, 65, 77, 62, 63, 80, 72, 74, 69, 73, 81, 78, 88, 82,\n",
       "         83, 84, 85, 86, 87], dtype=int64),\n",
       "  'age'],\n",
       " [array([' Self-emp-not-inc', ' Private', ' State-gov', ' Federal-gov',\n",
       "         ' Local-gov', ' Self-emp-inc', ' Without-pay', ' Never-worked'],\n",
       "        dtype=object),\n",
       "  'work_class'],\n",
       " [array([ 83311, 215646, 234721, ...,  34066,  84661, 257302], dtype=int64),\n",
       "  'fnlwgt'],\n",
       " [array([' Bachelors', ' HS-grad', ' 11th', ' Masters', ' 9th',\n",
       "         ' Some-college', ' Assoc-acdm', ' Assoc-voc', ' 7th-8th',\n",
       "         ' Doctorate', ' Prof-school', ' 5th-6th', ' 10th', ' 1st-4th',\n",
       "         ' Preschool', ' 12th'], dtype=object),\n",
       "  'education'],\n",
       " [array([13,  9,  7, 14,  5, 10, 12, 11,  4, 16, 15,  3,  6,  2,  1,  8],\n",
       "        dtype=int64),\n",
       "  'education_num'],\n",
       " [array([' Married-civ-spouse', ' Divorced', ' Married-spouse-absent',\n",
       "         ' Never-married', ' Separated', ' Married-AF-spouse', ' Widowed'],\n",
       "        dtype=object),\n",
       "  'marital_status'],\n",
       " [array([' Exec-managerial', ' Handlers-cleaners', ' Prof-specialty',\n",
       "         ' Other-service', ' Adm-clerical', ' Sales', ' Craft-repair',\n",
       "         ' Transport-moving', ' Farming-fishing', ' Machine-op-inspct',\n",
       "         ' Tech-support', ' Protective-serv', ' Armed-Forces',\n",
       "         ' Priv-house-serv'], dtype=object),\n",
       "  'occupation'],\n",
       " [array([' Husband', ' Not-in-family', ' Wife', ' Own-child', ' Unmarried',\n",
       "         ' Other-relative'], dtype=object),\n",
       "  'relationship'],\n",
       " [array([' White', ' Black', ' Asian-Pac-Islander', ' Amer-Indian-Eskimo',\n",
       "         ' Other'], dtype=object),\n",
       "  'race'],\n",
       " [array([' Male', ' Female'], dtype=object), 'sex'],\n",
       " [array([    0, 14084,  5178,  5013,  2407, 14344, 15024,  7688, 34095,\n",
       "          4064,  4386,  7298,  1409,  3674,  1055,  3464,  2050,  2176,\n",
       "          2174,   594, 20051,  6849,  4101,  1111,  8614,  3411,  2597,\n",
       "         25236,  4650,  9386,  2463,  3103, 10605,  2964,  3325,  2580,\n",
       "          3471,  4865, 99999,  6514,  1471,  2329,  2105,  2885, 25124,\n",
       "         10520,  2202,  2961, 27828,  6767,  2228,  1506, 13550,  2635,\n",
       "          5556,  4787,  3781,  3137,  3818,  3942,   914,   401,  2829,\n",
       "          2977,  4934,  2062,  2354,  5455, 15020,  1424,  3273, 22040,\n",
       "          4416,  3908, 10566,   991,  4931,  1086,  7430,  6497,   114,\n",
       "          7896,  2346,  3418,  3432,  2907,  1151,  2414,  2290, 15831,\n",
       "         41310,  4508,  2538,  3456,  6418,  1848,  3887,  5721,  9562,\n",
       "          1455,  2036,  1831, 11678,  2936,  2993,  7443,  6360,  1797,\n",
       "          1173,  4687,  6723,  2009,  6097,  2653,  1639, 18481,  7978,\n",
       "          2387,  5060], dtype=int64),\n",
       "  'capital_gain'],\n",
       " [array([   0, 2042, 1408, 1902, 1573, 1887, 1719, 1762, 1564, 2179, 1816,\n",
       "         1980, 1977, 1876, 1340, 2206, 1741, 1485, 2339, 2415, 1380, 1721,\n",
       "         2051, 2377, 1669, 2352, 1672,  653, 2392, 1504, 2001, 1590, 1651,\n",
       "         1628, 1848, 1740, 2002, 1579, 2258, 1602,  419, 2547, 2174, 2205,\n",
       "         1726, 2444, 1138, 2238,  625,  213, 1539,  880, 1668, 1092, 1594,\n",
       "         3004, 2231, 1844,  810, 2824, 2559, 2057, 1974,  974, 2149, 1825,\n",
       "         1735, 1258, 2129, 2603, 2282,  323, 4356, 2246, 1617, 1648, 2489,\n",
       "         3770, 1755, 3683, 2267, 2080, 2457,  155, 3900, 2201, 1944, 2467,\n",
       "         2163, 2754, 2472, 1411], dtype=int64),\n",
       "  'capital_loss'],\n",
       " [array([13, 40, 16, 45, 50, 80, 30, 35, 60, 20, 52, 44, 15, 25, 38, 43, 55,\n",
       "         48, 58, 32, 70,  2, 22, 56, 41, 28, 36, 24, 46, 42, 12, 65,  1, 10,\n",
       "         34, 75, 98, 33, 54,  8,  6, 64, 19, 18, 72,  5,  9, 47, 37, 21, 26,\n",
       "         14,  4, 59,  7, 99, 53, 39, 62, 57, 78, 90, 66, 11, 49, 84,  3, 17,\n",
       "         68, 27, 85, 31, 51, 77, 63, 23, 87, 88, 73, 89, 97, 94, 29, 96, 67,\n",
       "         82, 86, 91, 81, 76, 92, 61, 74, 95], dtype=int64),\n",
       "  'hours_per_week'],\n",
       " [array([' United-States', ' Cuba', ' Jamaica', ' India', ' Mexico',\n",
       "         ' South', ' Puerto-Rico', ' Honduras', ' England', ' Canada',\n",
       "         ' Germany', ' Iran', ' Philippines', ' Italy', ' Poland',\n",
       "         ' Columbia', ' Cambodia', ' Thailand', ' Ecuador', ' Laos',\n",
       "         ' Taiwan', ' Haiti', ' Portugal', ' Dominican-Republic',\n",
       "         ' El-Salvador', ' France', ' Guatemala', ' China', ' Japan',\n",
       "         ' Yugoslavia', ' Peru', ' Outlying-US(Guam-USVI-etc)', ' Scotland',\n",
       "         ' Trinadad&Tobago', ' Greece', ' Nicaragua', ' Vietnam', ' Hong',\n",
       "         ' Ireland', ' Hungary', ' Holand-Netherlands'], dtype=object),\n",
       "  'native_country'],\n",
       " [array([' <=50K', ' >50K'], dtype=object), 'income']]"
      ]
     },
     "execution_count": 32,
     "metadata": {},
     "output_type": "execute_result"
    }
   ],
   "source": [
    "[[df_train[i].unique(),i] for i in df_train.columns]\n",
    "# consider the columns 'capital_gain' & 'capital_loss' performing \n",
    "# outliers on this columns results in all zeros instances in the dataset"
   ]
  },
  {
   "cell_type": "code",
   "execution_count": 33,
   "id": "85814fcb",
   "metadata": {
    "ExecuteTime": {
     "end_time": "2022-02-13T10:48:24.547462Z",
     "start_time": "2022-02-13T10:48:24.405482Z"
    }
   },
   "outputs": [
    {
     "data": {
      "text/plain": [
       "{'whiskers': [<matplotlib.lines.Line2D at 0x1d1e6fb7760>,\n",
       "  <matplotlib.lines.Line2D at 0x1d1e6fb7ac0>],\n",
       " 'caps': [<matplotlib.lines.Line2D at 0x1d1e6fb7e20>,\n",
       "  <matplotlib.lines.Line2D at 0x1d1e6fc41c0>],\n",
       " 'boxes': [<matplotlib.lines.Line2D at 0x1d1e6fb7400>],\n",
       " 'medians': [<matplotlib.lines.Line2D at 0x1d1e6fc4550>],\n",
       " 'fliers': [<matplotlib.lines.Line2D at 0x1d1e6fc48b0>],\n",
       " 'means': []}"
      ]
     },
     "execution_count": 33,
     "metadata": {},
     "output_type": "execute_result"
    },
    {
     "data": {
      "text/plain": [
       "Text(0.5, 1.0, 'Detecting outliers using Boxplot')"
      ]
     },
     "execution_count": 33,
     "metadata": {},
     "output_type": "execute_result"
    },
    {
     "data": {
      "text/plain": [
       "Text(0.5, 0, 'output of Outliers on capital_loss')"
      ]
     },
     "execution_count": 33,
     "metadata": {},
     "output_type": "execute_result"
    },
    {
     "data": {
      "image/png": "[encoded data removed]",
      "text/plain": [
       "<Figure size 432x288 with 1 Axes>"
      ]
     },
     "metadata": {
      "needs_background": "light"
     },
     "output_type": "display_data"
    }
   ],
   "source": [
    "plt.boxplot(df_train.capital_loss, vert=False)\n",
    "plt.title(\"Detecting outliers using Boxplot\")\n",
    "plt.xlabel('output of Outliers on capital_loss')"
   ]
  },
  {
   "cell_type": "markdown",
   "id": "06ebf2ea",
   "metadata": {},
   "source": [
    "# Expolratory Data Analysis"
   ]
  },
  {
   "cell_type": "code",
   "execution_count": 34,
   "id": "1e24c55e",
   "metadata": {
    "ExecuteTime": {
     "end_time": "2022-02-13T10:48:25.381383Z",
     "start_time": "2022-02-13T10:48:25.350104Z"
    }
   },
   "outputs": [],
   "source": [
    "corr_train = df_train.corr()\n",
    "corr_test = df_test.corr()"
   ]
  },
  {
   "cell_type": "code",
   "execution_count": 35,
   "id": "a5c8c786",
   "metadata": {
    "ExecuteTime": {
     "end_time": "2022-02-13T10:48:26.009404Z",
     "start_time": "2022-02-13T10:48:25.993516Z"
    }
   },
   "outputs": [
    {
     "data": {
      "text/plain": [
       "age               0\n",
       "fnlwgt            0\n",
       "education_num     0\n",
       "capital_gain      0\n",
       "capital_loss      0\n",
       "hours_per_week    0\n",
       "dtype: int64"
      ]
     },
     "execution_count": 35,
     "metadata": {},
     "output_type": "execute_result"
    }
   ],
   "source": [
    "corr_train.isna().sum()"
   ]
  },
  {
   "cell_type": "code",
   "execution_count": 36,
   "id": "1d9dc6cc",
   "metadata": {
    "ExecuteTime": {
     "end_time": "2022-02-13T10:48:27.107802Z",
     "start_time": "2022-02-13T10:48:26.605531Z"
    }
   },
   "outputs": [
    {
     "data": {
      "text/plain": [
       "<Figure size 1080x648 with 0 Axes>"
      ]
     },
     "execution_count": 36,
     "metadata": {},
     "output_type": "execute_result"
    },
    {
     "data": {
      "text/plain": [
       "<AxesSubplot:>"
      ]
     },
     "execution_count": 36,
     "metadata": {},
     "output_type": "execute_result"
    },
    {
     "data": {
      "image/png": "[encoded data removed]",
      "text/plain": [
       "<Figure size 1080x648 with 2 Axes>"
      ]
     },
     "metadata": {
      "needs_background": "light"
     },
     "output_type": "display_data"
    }
   ],
   "source": [
    "plt.figure(figsize = (15,9))\n",
    "sns.set_style('white')\n",
    "sns.heatmap(corr_train,annot = True)"
   ]
  },
  {
   "cell_type": "markdown",
   "id": "3b725c9a",
   "metadata": {
    "ExecuteTime": {
     "end_time": "2022-02-13T10:10:28.808332Z",
     "start_time": "2022-02-13T10:10:28.774087Z"
    }
   },
   "source": [
    " <li> Observations: Following obserations were taken from the correlation heatmap</li>\n",
    "<ol><li> Education was corelated with the hours per week and capital gain</li></ol>"
   ]
  },
  {
   "cell_type": "code",
   "execution_count": 37,
   "id": "58e55acf",
   "metadata": {
    "ExecuteTime": {
     "end_time": "2022-02-13T10:48:28.205986Z",
     "start_time": "2022-02-13T10:48:27.656675Z"
    }
   },
   "outputs": [
    {
     "data": {
      "text/plain": [
       "<Figure size 1080x648 with 0 Axes>"
      ]
     },
     "execution_count": 37,
     "metadata": {},
     "output_type": "execute_result"
    },
    {
     "data": {
      "text/plain": [
       "<AxesSubplot:>"
      ]
     },
     "execution_count": 37,
     "metadata": {},
     "output_type": "execute_result"
    },
    {
     "data": {
      "image/png": "[encoded data removed]",
      "text/plain": [
       "<Figure size 1080x648 with 2 Axes>"
      ]
     },
     "metadata": {},
     "output_type": "display_data"
    }
   ],
   "source": [
    "plt.figure(figsize = (15,9))\n",
    "sns.set_style('white')\n",
    "sns.heatmap(corr_test,annot = True)"
   ]
  },
  {
   "cell_type": "markdown",
   "id": "e2851d30",
   "metadata": {},
   "source": [
    " <li> Following obserations were taken from the correlation heatmap</li>\n",
    "<ol><li> Education was corelated with the hours per week and capital gain</li></ol>"
   ]
  },
  {
   "cell_type": "code",
   "execution_count": 38,
   "id": "2bb2d406",
   "metadata": {
    "ExecuteTime": {
     "end_time": "2022-02-13T10:48:29.023154Z",
     "start_time": "2022-02-13T10:48:29.007473Z"
    }
   },
   "outputs": [],
   "source": [
    "df_train['age_range'] = pd.cut(df_train['age'], bins = [0, 25, 50, 100], labels = ['Young', 'Adult', 'Old'])\n",
    "df_test['age_range'] = pd.cut(df_train['age'], bins = [0, 25, 50, 100], labels = ['Young', 'Adult', 'Old'])"
   ]
  },
  {
   "cell_type": "code",
   "execution_count": 39,
   "id": "da902c96",
   "metadata": {
    "ExecuteTime": {
     "end_time": "2022-02-13T10:48:30.816405Z",
     "start_time": "2022-02-13T10:48:30.361408Z"
    }
   },
   "outputs": [
    {
     "data": {
      "text/plain": [
       "<Figure size 1440x648 with 0 Axes>"
      ]
     },
     "execution_count": 39,
     "metadata": {},
     "output_type": "execute_result"
    },
    {
     "data": {
      "text/plain": [
       "(array([0. , 0.2, 0.4, 0.6, 0.8, 1. ]),\n",
       " [Text(0, 0, ''),\n",
       "  Text(0, 0, ''),\n",
       "  Text(0, 0, ''),\n",
       "  Text(0, 0, ''),\n",
       "  Text(0, 0, ''),\n",
       "  Text(0, 0, '')])"
      ]
     },
     "execution_count": 39,
     "metadata": {},
     "output_type": "execute_result"
    },
    {
     "data": {
      "text/plain": [
       "<AxesSubplot:xlabel='income', ylabel='count'>"
      ]
     },
     "execution_count": 39,
     "metadata": {},
     "output_type": "execute_result"
    },
    {
     "data": {
      "text/plain": [
       "Text(0.5, 1.0, 'Income Wrt occupation')"
      ]
     },
     "execution_count": 39,
     "metadata": {},
     "output_type": "execute_result"
    },
    {
     "data": {
      "image/png": "[encoded data removed]",
      "text/plain": [
       "<Figure size 1440x648 with 1 Axes>"
      ]
     },
     "metadata": {},
     "output_type": "display_data"
    }
   ],
   "source": [
    "plt.figure(figsize = (20,9))\n",
    "plt.xticks(rotation = 45)\n",
    "sns.countplot(x = 'income', hue = 'occupation', data = df_train)\n",
    "plt.title('Income Wrt occupation')"
   ]
  },
  {
   "cell_type": "markdown",
   "id": "2d84be70",
   "metadata": {
    "ExecuteTime": {
     "end_time": "2022-02-13T10:30:51.441660Z",
     "start_time": "2022-02-13T10:30:51.414037Z"
    }
   },
   "source": [
    "Observations: \n",
    "<ol><li>Most of the professional speciality were earns <=50K \n",
    "and second were sales,other services,, administration clerical level proffesions were <=50k </li>\n",
    "<li>Most of prof_specially occupations was earning >50K and second were private houses service professionals </ol>"
   ]
  },
  {
   "cell_type": "code",
   "execution_count": 40,
   "id": "0b12c314",
   "metadata": {
    "ExecuteTime": {
     "end_time": "2022-02-13T10:48:32.607198Z",
     "start_time": "2022-02-13T10:48:31.957687Z"
    }
   },
   "outputs": [
    {
     "data": {
      "text/plain": [
       "<Figure size 1440x576 with 0 Axes>"
      ]
     },
     "execution_count": 40,
     "metadata": {},
     "output_type": "execute_result"
    },
    {
     "data": {
      "text/plain": [
       "<AxesSubplot:xlabel='occupation', ylabel='count'>"
      ]
     },
     "execution_count": 40,
     "metadata": {},
     "output_type": "execute_result"
    },
    {
     "data": {
      "text/plain": [
       "Text(0.5, 1.0, 'Occupation along with work_class')"
      ]
     },
     "execution_count": 40,
     "metadata": {},
     "output_type": "execute_result"
    },
    {
     "data": {
      "image/png": "[encoded data removed]",
      "text/plain": [
       "<Figure size 1440x576 with 1 Axes>"
      ]
     },
     "metadata": {},
     "output_type": "display_data"
    }
   ],
   "source": [
    "plt.figure(figsize =(20,8))\n",
    "sns.countplot(df_train.occupation,hue = df_train['work_class'])\n",
    "plt.title('Occupation along with work_class')"
   ]
  },
  {
   "cell_type": "markdown",
   "id": "e8b50883",
   "metadata": {
    "ExecuteTime": {
     "end_time": "2022-02-13T10:17:41.443549Z",
     "start_time": "2022-02-13T10:17:41.427855Z"
    }
   },
   "source": [
    "Observations: \n",
    "<ol><li>Most of the professions were from the private working classand second was local government</li>\n",
    "<li>Most of prof_specially occupations was from the private working class from the above graph</ol>"
   ]
  },
  {
   "cell_type": "code",
   "execution_count": 41,
   "id": "ef8d31fd",
   "metadata": {
    "ExecuteTime": {
     "end_time": "2022-02-13T10:48:34.620321Z",
     "start_time": "2022-02-13T10:48:33.612984Z"
    }
   },
   "outputs": [
    {
     "data": {
      "text/plain": [
       "<Figure size 1440x576 with 0 Axes>"
      ]
     },
     "execution_count": 41,
     "metadata": {},
     "output_type": "execute_result"
    },
    {
     "data": {
      "text/plain": [
       "<AxesSubplot:xlabel='occupation', ylabel='count'>"
      ]
     },
     "execution_count": 41,
     "metadata": {},
     "output_type": "execute_result"
    },
    {
     "data": {
      "text/plain": [
       "Text(0.5, 1.0, 'Education wrt occupation')"
      ]
     },
     "execution_count": 41,
     "metadata": {},
     "output_type": "execute_result"
    },
    {
     "data": {
      "image/png": "[encoded data removed]",
      "text/plain": [
       "<Figure size 1440x576 with 1 Axes>"
      ]
     },
     "metadata": {},
     "output_type": "display_data"
    }
   ],
   "source": [
    "plt.figure(figsize =(20,8))\n",
    "sns.countplot(df_train.occupation,hue = df_train['education'])\n",
    "plt.title('Education wrt occupation')"
   ]
  },
  {
   "cell_type": "markdown",
   "id": "7d52c014",
   "metadata": {
    "ExecuteTime": {
     "end_time": "2022-02-13T10:06:11.027620Z",
     "start_time": "2022-02-13T10:06:11.011992Z"
    }
   },
   "source": [
    "Observations: \n",
    "<ol><li>Most of the professions were the education profile was Bachelors and second was some college</li>\n",
    "<li>Most of the professions were the prof-speciality and second highest is managerial rolesm</ol>"
   ]
  },
  {
   "cell_type": "code",
   "execution_count": 42,
   "id": "7cef4b9b",
   "metadata": {
    "ExecuteTime": {
     "end_time": "2022-02-13T10:48:35.816049Z",
     "start_time": "2022-02-13T10:48:35.580665Z"
    }
   },
   "outputs": [
    {
     "data": {
      "text/plain": [
       "<Figure size 1440x576 with 0 Axes>"
      ]
     },
     "execution_count": 42,
     "metadata": {},
     "output_type": "execute_result"
    },
    {
     "data": {
      "text/plain": [
       "<AxesSubplot:xlabel='work_class', ylabel='count'>"
      ]
     },
     "execution_count": 42,
     "metadata": {},
     "output_type": "execute_result"
    },
    {
     "data": {
      "image/png": "[encoded data removed]",
      "text/plain": [
       "<Figure size 1440x576 with 1 Axes>"
      ]
     },
     "metadata": {},
     "output_type": "display_data"
    }
   ],
   "source": [
    "plt.figure(figsize =(20,8))\n",
    "sns.countplot(df_train.work_class)"
   ]
  },
  {
   "cell_type": "code",
   "execution_count": 43,
   "id": "b5991ee8",
   "metadata": {
    "ExecuteTime": {
     "end_time": "2022-02-13T10:48:36.663812Z",
     "start_time": "2022-02-13T10:48:36.443330Z"
    }
   },
   "outputs": [
    {
     "data": {
      "text/plain": [
       "<matplotlib.collections.PathCollection at 0x1d1e94326d0>"
      ]
     },
     "execution_count": 43,
     "metadata": {},
     "output_type": "execute_result"
    },
    {
     "data": {
      "image/png": "[encoded data removed]",
      "text/plain": [
       "<Figure size 432x288 with 1 Axes>"
      ]
     },
     "metadata": {},
     "output_type": "display_data"
    }
   ],
   "source": [
    "plt.scatter(df_train.capital_gain,df_train.capital_gain)"
   ]
  },
  {
   "cell_type": "markdown",
   "id": "096d8570",
   "metadata": {
    "ExecuteTime": {
     "end_time": "2022-02-13T09:50:45.990116Z",
     "start_time": "2022-02-13T09:50:45.974054Z"
    }
   },
   "source": [
    "<li>Observations: relations ship between the capital gain and capital loss is linear relationship, i.e., as the loss is increasing and gain also increasing</li>"
   ]
  },
  {
   "cell_type": "code",
   "execution_count": 44,
   "id": "5b531b2d",
   "metadata": {
    "ExecuteTime": {
     "end_time": "2022-02-13T10:48:37.794569Z",
     "start_time": "2022-02-13T10:48:37.496141Z"
    }
   },
   "outputs": [
    {
     "data": {
      "text/plain": [
       "<Figure size 1440x576 with 0 Axes>"
      ]
     },
     "execution_count": 44,
     "metadata": {},
     "output_type": "execute_result"
    },
    {
     "data": {
      "text/plain": [
       "<AxesSubplot:xlabel='education', ylabel='count'>"
      ]
     },
     "execution_count": 44,
     "metadata": {},
     "output_type": "execute_result"
    },
    {
     "data": {
      "image/png": "[encoded data removed]",
      "text/plain": [
       "<Figure size 1440x576 with 1 Axes>"
      ]
     },
     "metadata": {},
     "output_type": "display_data"
    }
   ],
   "source": [
    "plt.figure(figsize =(20,8))\n",
    "sns.countplot(df_train.education)"
   ]
  },
  {
   "cell_type": "code",
   "execution_count": 45,
   "id": "e64c7fdb",
   "metadata": {
    "ExecuteTime": {
     "end_time": "2022-02-13T10:48:39.332185Z",
     "start_time": "2022-02-13T10:48:38.422142Z"
    }
   },
   "outputs": [
    {
     "data": {
      "text/plain": [
       "<Figure size 1080x576 with 0 Axes>"
      ]
     },
     "execution_count": 45,
     "metadata": {},
     "output_type": "execute_result"
    },
    {
     "data": {
      "text/plain": [
       "<AxesSubplot:xlabel='capital_gain', ylabel='Density'>"
      ]
     },
     "execution_count": 45,
     "metadata": {},
     "output_type": "execute_result"
    },
    {
     "data": {
      "text/plain": [
       "<AxesSubplot:xlabel='capital_loss', ylabel='Density'>"
      ]
     },
     "execution_count": 45,
     "metadata": {},
     "output_type": "execute_result"
    },
    {
     "data": {
      "text/plain": [
       "<matplotlib.legend.Legend at 0x1d1e9432a60>"
      ]
     },
     "execution_count": 45,
     "metadata": {},
     "output_type": "execute_result"
    },
    {
     "data": {
      "image/png": "[encoded data removed]",
      "text/plain": [
       "<Figure size 1080x576 with 1 Axes>"
      ]
     },
     "metadata": {},
     "output_type": "display_data"
    }
   ],
   "source": [
    "plt.figure(figsize = (15,8))\n",
    "sns.set_style('dark')\n",
    "sns.distplot(df_train.capital_gain,color = 'green',label = 'capital_gain',kde = True)\n",
    "sns.distplot(df_train.capital_loss,color = 'red',label = 'capital_loss',kde = True)\n",
    "plt.legend()"
   ]
  },
  {
   "cell_type": "markdown",
   "id": "0f25e6cb",
   "metadata": {},
   "source": [
    "Observations: The above dist plot shows the lass is more than the gain in capital"
   ]
  },
  {
   "cell_type": "code",
   "execution_count": 46,
   "id": "1135e4c9",
   "metadata": {
    "ExecuteTime": {
     "end_time": "2022-02-13T10:48:40.791673Z",
     "start_time": "2022-02-13T10:48:39.964519Z"
    }
   },
   "outputs": [
    {
     "data": {
      "text/plain": [
       "<Figure size 1440x360 with 0 Axes>"
      ]
     },
     "execution_count": 46,
     "metadata": {},
     "output_type": "execute_result"
    },
    {
     "data": {
      "text/plain": [
       "<AxesSubplot:xlabel='occupation', ylabel='capital_gain'>"
      ]
     },
     "execution_count": 46,
     "metadata": {},
     "output_type": "execute_result"
    },
    {
     "data": {
      "image/png": "[encoded data removed]",
      "text/plain": [
       "<Figure size 1440x360 with 1 Axes>"
      ]
     },
     "metadata": {},
     "output_type": "display_data"
    }
   ],
   "source": [
    "sns.set_style('darkgrid')\n",
    "plt.figure(figsize = (20,5))\n",
    "sns.lineplot(df_train.occupation,df_train.capital_gain,)"
   ]
  },
  {
   "cell_type": "markdown",
   "id": "b09d8348",
   "metadata": {
    "ExecuteTime": {
     "end_time": "2022-02-13T10:41:45.339909Z",
     "start_time": "2022-02-13T10:41:45.323795Z"
    }
   },
   "source": [
    "Obsevations: The above linediagram shows that executive level managerials have high gain than the other professionsm"
   ]
  },
  {
   "cell_type": "code",
   "execution_count": 47,
   "id": "fec36aa5",
   "metadata": {
    "ExecuteTime": {
     "end_time": "2022-02-13T10:48:41.593063Z",
     "start_time": "2022-02-13T10:48:41.436186Z"
    }
   },
   "outputs": [
    {
     "data": {
      "text/plain": [
       "<Figure size 720x360 with 0 Axes>"
      ]
     },
     "execution_count": 47,
     "metadata": {},
     "output_type": "execute_result"
    },
    {
     "data": {
      "text/plain": [
       "<AxesSubplot:xlabel='age_range', ylabel='count'>"
      ]
     },
     "execution_count": 47,
     "metadata": {},
     "output_type": "execute_result"
    },
    {
     "data": {
      "image/png": "[encoded data removed]",
      "text/plain": [
       "<Figure size 720x360 with 1 Axes>"
      ]
     },
     "metadata": {},
     "output_type": "display_data"
    }
   ],
   "source": [
    "plt.figure(figsize =(10,5))\n",
    "sns.countplot(df_train.age_range)"
   ]
  },
  {
   "cell_type": "markdown",
   "id": "13d77956",
   "metadata": {},
   "source": [
    "Observations: Most of them are adult who's age ranges from 25 to 50 years in the survery"
   ]
  },
  {
   "cell_type": "code",
   "execution_count": 48,
   "id": "4c34bb3f",
   "metadata": {
    "ExecuteTime": {
     "end_time": "2022-02-13T10:48:42.835145Z",
     "start_time": "2022-02-13T10:48:42.584072Z"
    }
   },
   "outputs": [
    {
     "data": {
      "text/plain": [
       "[Text(0, 0, ' <=50K'), Text(1, 0, ' >50K')]"
      ]
     },
     "execution_count": 48,
     "metadata": {},
     "output_type": "execute_result"
    },
    {
     "data": {
      "text/plain": [
       "<AxesSubplot:xlabel='income', ylabel='count'>"
      ]
     },
     "execution_count": 48,
     "metadata": {},
     "output_type": "execute_result"
    },
    {
     "data": {
      "image/png": "[encoded data removed]",
      "text/plain": [
       "<Figure size 432x288 with 1 Axes>"
      ]
     },
     "metadata": {},
     "output_type": "display_data"
    }
   ],
   "source": [
    "ax = sns.countplot(x=\"income\", data=df_train)\n",
    "ax.set_xticklabels(ax.get_xticklabels(), rotation=40, ha=\"right\")\n",
    "plt.tight_layout()\n",
    "sns.countplot(x = 'income', hue = 'sex', data = df_train)\n",
    "plt.show()"
   ]
  },
  {
   "cell_type": "code",
   "execution_count": 49,
   "id": "7209759c",
   "metadata": {
    "ExecuteTime": {
     "end_time": "2022-02-13T10:48:43.730563Z",
     "start_time": "2022-02-13T10:48:43.699289Z"
    }
   },
   "outputs": [
    {
     "data": {
      "text/html": [
       "<div>\n",
       "<style scoped>\n",
       "    .dataframe tbody tr th:only-of-type {\n",
       "        vertical-align: middle;\n",
       "    }\n",
       "\n",
       "    .dataframe tbody tr th {\n",
       "        vertical-align: top;\n",
       "    }\n",
       "\n",
       "    .dataframe thead th {\n",
       "        text-align: right;\n",
       "    }\n",
       "</style>\n",
       "<table border=\"1\" class=\"dataframe\">\n",
       "  <thead>\n",
       "    <tr style=\"text-align: right;\">\n",
       "      <th>income</th>\n",
       "      <th>&lt;=50K</th>\n",
       "      <th>&gt;50K</th>\n",
       "    </tr>\n",
       "    <tr>\n",
       "      <th>sex</th>\n",
       "      <th></th>\n",
       "      <th></th>\n",
       "    </tr>\n",
       "  </thead>\n",
       "  <tbody>\n",
       "    <tr>\n",
       "      <th>Female</th>\n",
       "      <td>9583</td>\n",
       "      <td>1179</td>\n",
       "    </tr>\n",
       "    <tr>\n",
       "      <th>Male</th>\n",
       "      <td>15114</td>\n",
       "      <td>6660</td>\n",
       "    </tr>\n",
       "  </tbody>\n",
       "</table>\n",
       "</div>"
      ],
      "text/plain": [
       "income    <=50K   >50K\n",
       "sex                   \n",
       " Female    9583   1179\n",
       " Male     15114   6660"
      ]
     },
     "execution_count": 49,
     "metadata": {},
     "output_type": "execute_result"
    }
   ],
   "source": [
    "pd.crosstab(df_train.sex,df_train.income)"
   ]
  },
  {
   "cell_type": "markdown",
   "id": "116972ab",
   "metadata": {},
   "source": [
    "<li>Observations: In the given survery, most of the male  (61.19%)candidates and (38.80%) were female in earning \" <=50K \".</li>\n",
    "<li>(15.04%) approx were male and 84.95% were female in earning in \" >50K \"</li>"
   ]
  },
  {
   "cell_type": "code",
   "execution_count": 50,
   "id": "e568b7c2",
   "metadata": {
    "ExecuteTime": {
     "end_time": "2022-02-13T10:48:45.177353Z",
     "start_time": "2022-02-13T10:48:44.737259Z"
    }
   },
   "outputs": [
    {
     "data": {
      "text/plain": [
       "<Figure size 1080x576 with 0 Axes>"
      ]
     },
     "execution_count": 50,
     "metadata": {},
     "output_type": "execute_result"
    },
    {
     "data": {
      "text/plain": [
       "<AxesSubplot:xlabel='income', ylabel='count'>"
      ]
     },
     "execution_count": 50,
     "metadata": {},
     "output_type": "execute_result"
    },
    {
     "data": {
      "image/png": "[encoded data removed]",
      "text/plain": [
       "<Figure size 1080x576 with 1 Axes>"
      ]
     },
     "metadata": {},
     "output_type": "display_data"
    }
   ],
   "source": [
    "plt.figure(figsize = (15,8))\n",
    "sns.countplot(x = 'income', hue = 'occupation', data = df_train)"
   ]
  },
  {
   "cell_type": "code",
   "execution_count": 51,
   "id": "3f6caf45",
   "metadata": {
    "ExecuteTime": {
     "end_time": "2022-02-13T10:48:46.009648Z",
     "start_time": "2022-02-13T10:48:45.805688Z"
    }
   },
   "outputs": [
    {
     "data": {
      "text/plain": [
       "<Figure size 720x576 with 0 Axes>"
      ]
     },
     "execution_count": 51,
     "metadata": {},
     "output_type": "execute_result"
    },
    {
     "data": {
      "text/plain": [
       "<AxesSubplot:xlabel='income', ylabel='count'>"
      ]
     },
     "execution_count": 51,
     "metadata": {},
     "output_type": "execute_result"
    },
    {
     "data": {
      "image/png": "[encoded data removed]",
      "text/plain": [
       "<Figure size 720x576 with 1 Axes>"
      ]
     },
     "metadata": {},
     "output_type": "display_data"
    }
   ],
   "source": [
    "plt.figure(figsize = (10,8))\n",
    "sns.countplot(x = 'income', hue = 'income', data = df_train)"
   ]
  },
  {
   "cell_type": "code",
   "execution_count": 52,
   "id": "42b2ffe6",
   "metadata": {
    "ExecuteTime": {
     "end_time": "2022-02-13T10:48:46.637942Z",
     "start_time": "2022-02-13T10:48:46.621869Z"
    }
   },
   "outputs": [
    {
     "data": {
      "text/plain": [
       " <=50K    24697\n",
       " >50K      7839\n",
       "Name: income, dtype: int64"
      ]
     },
     "execution_count": 52,
     "metadata": {},
     "output_type": "execute_result"
    }
   ],
   "source": [
    "df_train.income.value_counts()"
   ]
  },
  {
   "cell_type": "code",
   "execution_count": 53,
   "id": "dd5fa55f",
   "metadata": {
    "ExecuteTime": {
     "end_time": "2022-02-13T10:48:47.266033Z",
     "start_time": "2022-02-13T10:48:47.249644Z"
    }
   },
   "outputs": [
    {
     "data": {
      "text/plain": [
       "24.093312023604625"
      ]
     },
     "execution_count": 53,
     "metadata": {},
     "output_type": "execute_result"
    }
   ],
   "source": [
    "(7839/(24697+7839))*100"
   ]
  },
  {
   "cell_type": "markdown",
   "id": "b121f323",
   "metadata": {
    "ExecuteTime": {
     "end_time": "2022-02-13T09:06:26.101533Z",
     "start_time": "2022-02-13T09:06:26.085604Z"
    }
   },
   "source": [
    "<li>Observations: The records with 75.90% were who have <=50K income and remaining were 24.093% who are >50K income</li>"
   ]
  },
  {
   "cell_type": "code",
   "execution_count": 54,
   "id": "63a5d40c",
   "metadata": {
    "ExecuteTime": {
     "end_time": "2022-02-13T10:48:49.450954Z",
     "start_time": "2022-02-13T10:48:48.336968Z"
    }
   },
   "outputs": [
    {
     "data": {
      "text/plain": [
       "array([[<AxesSubplot:title={'center':'age'}>,\n",
       "        <AxesSubplot:title={'center':'fnlwgt'}>],\n",
       "       [<AxesSubplot:title={'center':'education_num'}>,\n",
       "        <AxesSubplot:title={'center':'capital_gain'}>],\n",
       "       [<AxesSubplot:title={'center':'capital_loss'}>,\n",
       "        <AxesSubplot:title={'center':'hours_per_week'}>]], dtype=object)"
      ]
     },
     "execution_count": 54,
     "metadata": {},
     "output_type": "execute_result"
    },
    {
     "data": {
      "image/png": "[encoded data removed]",
      "text/plain": [
       "<Figure size 1080x864 with 6 Axes>"
      ]
     },
     "metadata": {},
     "output_type": "display_data"
    }
   ],
   "source": [
    "rcParams['figure.figsize'] = 15, 12\n",
    "df_train[['age', 'fnlwgt', 'education_num', 'capital_gain','sex', 'capital_loss','hours_per_week']].hist()"
   ]
  },
  {
   "cell_type": "markdown",
   "id": "b9918cde",
   "metadata": {
    "ExecuteTime": {
     "end_time": "2022-02-13T09:12:41.597121Z",
     "start_time": "2022-02-13T09:12:41.581505Z"
    }
   },
   "source": [
    "Observations: In the above histogram graphs we can identify that the distribution of each numberical attributes where\n",
    "    main obserations are:\n",
    "        <ol> <li> Age attribute is skewed to wards right side</li>\n",
    "        <li> Capital gain and captial loss were most of the zeros </li>\n",
    "        <li> Education wise were 10 and above degrees where recorded in survey</li>\n",
    "<li> No. of hours per week was mostly around 40 hours</ol>"
   ]
  },
  {
   "cell_type": "markdown",
   "id": "016e7ba9",
   "metadata": {},
   "source": [
    "# Pandas Profiling"
   ]
  },
  {
   "cell_type": "code",
   "execution_count": 55,
   "id": "edec5d58",
   "metadata": {
    "ExecuteTime": {
     "end_time": "2022-02-13T10:48:51.695010Z",
     "start_time": "2022-02-13T10:48:50.424558Z"
    }
   },
   "outputs": [],
   "source": [
    "from pandas_profiling import profile_report\n",
    "pr = profile_report\n",
    "train_profiling = pr.ProfileReport(df_train)\n",
    "test_profiling = pr.ProfileReport(df_test)"
   ]
  },
  {
   "cell_type": "code",
   "execution_count": 56,
   "id": "ba466cb8",
   "metadata": {
    "ExecuteTime": {
     "end_time": "2022-02-13T10:49:13.991710Z",
     "start_time": "2022-02-13T10:48:52.354253Z"
    }
   },
   "outputs": [
    {
     "data": {
      "application/vnd.jupyter.widget-view+json": {
       "model_id": "34e2e1e51cf646ababcc0e58957ee3de",
       "version_major": 2,
       "version_minor": 0
      },
      "text/plain": [
       "Summarize dataset:   0%|          | 0/5 [00:00<?, ?it/s]"
      ]
     },
     "metadata": {},
     "output_type": "display_data"
    },
    {
     "data": {
      "application/vnd.jupyter.widget-view+json": {
       "model_id": "de0aa79c47274aa597aac6f4836c7149",
       "version_major": 2,
       "version_minor": 0
      },
      "text/plain": [
       "Generate report structure:   0%|          | 0/1 [00:00<?, ?it/s]"
      ]
     },
     "metadata": {},
     "output_type": "display_data"
    },
    {
     "data": {
      "application/vnd.jupyter.widget-view+json": {
       "model_id": "d2c94681e26846b6bfdf233ed234b2f6",
       "version_major": 2,
       "version_minor": 0
      },
      "text/plain": [
       "Render HTML:   0%|          | 0/1 [00:00<?, ?it/s]"
      ]
     },
     "metadata": {},
     "output_type": "display_data"
    },
    {
     "data": {
      "application/vnd.jupyter.widget-view+json": {
       "model_id": "a3e3ec5e167b4629aa0a61387c3db951",
       "version_major": 2,
       "version_minor": 0
      },
      "text/plain": [
       "Export report to file:   0%|          | 0/1 [00:00<?, ?it/s]"
      ]
     },
     "metadata": {},
     "output_type": "display_data"
    }
   ],
   "source": [
    "test_profiling.to_file('case_test_profiling.html')"
   ]
  },
  {
   "cell_type": "code",
   "execution_count": 32,
   "id": "f1876af8",
   "metadata": {
    "ExecuteTime": {
     "end_time": "2022-02-12T19:03:53.110061Z",
     "start_time": "2022-02-12T19:03:09.384908Z"
    }
   },
   "outputs": [
    {
     "data": {
      "application/vnd.jupyter.widget-view+json": {
       "model_id": "4cf5b6712d6f44478872891f6e2eb734",
       "version_major": 2,
       "version_minor": 0
      },
      "text/plain": [
       "Summarize dataset:   0%|          | 0/5 [00:00<?, ?it/s]"
      ]
     },
     "metadata": {},
     "output_type": "display_data"
    },
    {
     "data": {
      "application/vnd.jupyter.widget-view+json": {
       "model_id": "8b41aeb40b62469e82b0a668af88817e",
       "version_major": 2,
       "version_minor": 0
      },
      "text/plain": [
       "Generate report structure:   0%|          | 0/1 [00:00<?, ?it/s]"
      ]
     },
     "metadata": {},
     "output_type": "display_data"
    },
    {
     "data": {
      "application/vnd.jupyter.widget-view+json": {
       "model_id": "3c2972db1ff146e88300b032ccd90486",
       "version_major": 2,
       "version_minor": 0
      },
      "text/plain": [
       "Render HTML:   0%|          | 0/1 [00:00<?, ?it/s]"
      ]
     },
     "metadata": {},
     "output_type": "display_data"
    },
    {
     "data": {
      "application/vnd.jupyter.widget-view+json": {
       "model_id": "6cee9a486b644ca387a7b561a148f6bc",
       "version_major": 2,
       "version_minor": 0
      },
      "text/plain": [
       "Export report to file:   0%|          | 0/1 [00:00<?, ?it/s]"
      ]
     },
     "metadata": {},
     "output_type": "display_data"
    }
   ],
   "source": [
    "train_profiling.to_file('case_train_profiling.html')"
   ]
  },
  {
   "cell_type": "markdown",
   "id": "087f59eb",
   "metadata": {},
   "source": [
    "# Model selection"
   ]
  },
  {
   "cell_type": "code",
   "execution_count": 57,
   "id": "cfb89b6b",
   "metadata": {
    "ExecuteTime": {
     "end_time": "2022-02-13T10:49:39.581086Z",
     "start_time": "2022-02-13T10:49:39.566346Z"
    }
   },
   "outputs": [],
   "source": [
    "from sklearn.model_selection import train_test_split"
   ]
  },
  {
   "cell_type": "code",
   "execution_count": 58,
   "id": "51b51488",
   "metadata": {
    "ExecuteTime": {
     "end_time": "2022-02-13T10:49:40.286409Z",
     "start_time": "2022-02-13T10:49:40.270782Z"
    }
   },
   "outputs": [],
   "source": [
    "x_train = df_train.drop('income',axis = 1)\n",
    "y_train = df_train.income"
   ]
  },
  {
   "cell_type": "code",
   "execution_count": 59,
   "id": "b52cf35c",
   "metadata": {
    "ExecuteTime": {
     "end_time": "2022-02-13T10:49:40.993344Z",
     "start_time": "2022-02-13T10:49:40.976931Z"
    }
   },
   "outputs": [],
   "source": [
    "x_test = df_test.drop('income',axis = 1)\n",
    "y_test = df_test.income"
   ]
  },
  {
   "cell_type": "markdown",
   "id": "1a9486ab",
   "metadata": {},
   "source": [
    "# Encoding the Categorical Variables"
   ]
  },
  {
   "cell_type": "code",
   "execution_count": 60,
   "id": "6fc347a7",
   "metadata": {
    "ExecuteTime": {
     "end_time": "2022-02-13T10:49:41.825091Z",
     "start_time": "2022-02-13T10:49:41.808942Z"
    }
   },
   "outputs": [],
   "source": [
    "from sklearn.preprocessing import LabelEncoder"
   ]
  },
  {
   "cell_type": "markdown",
   "id": "c220a9df",
   "metadata": {},
   "source": [
    " Train dataset categirical features label encoding"
   ]
  },
  {
   "cell_type": "code",
   "execution_count": 61,
   "id": "a1ab9bad",
   "metadata": {
    "ExecuteTime": {
     "end_time": "2022-02-13T10:49:43.412560Z",
     "start_time": "2022-02-13T10:49:43.302573Z"
    }
   },
   "outputs": [],
   "source": [
    "le = LabelEncoder()\n",
    "for i in x_train:\n",
    "    col = le.fit_transform(x_train[i])\n",
    "    x_train[i] = col\n",
    "col = le.fit_transform(y_train)\n",
    "y_train = col"
   ]
  },
  {
   "cell_type": "markdown",
   "id": "f9d339eb",
   "metadata": {},
   "source": [
    "Test dataset categorical columns label encoding"
   ]
  },
  {
   "cell_type": "code",
   "execution_count": 62,
   "id": "ad36579a",
   "metadata": {
    "ExecuteTime": {
     "end_time": "2022-02-13T10:49:44.181655Z",
     "start_time": "2022-02-13T10:49:44.118165Z"
    }
   },
   "outputs": [],
   "source": [
    "le = LabelEncoder()\n",
    "for i in x_test:\n",
    "    col = le.fit_transform(x_test[i])\n",
    "    x_test[i] = col\n",
    "col = le.fit_transform(y_test)\n",
    "y_test = col"
   ]
  },
  {
   "cell_type": "markdown",
   "id": "006f4d6a",
   "metadata": {},
   "source": [
    "# Feature Scaling"
   ]
  },
  {
   "cell_type": "code",
   "execution_count": 63,
   "id": "67006a34",
   "metadata": {
    "ExecuteTime": {
     "end_time": "2022-02-13T10:49:44.934744Z",
     "start_time": "2022-02-13T10:49:44.919089Z"
    }
   },
   "outputs": [],
   "source": [
    "from sklearn.preprocessing import StandardScaler\n",
    "scaler = StandardScaler()"
   ]
  },
  {
   "cell_type": "code",
   "execution_count": 64,
   "id": "0a198ad4",
   "metadata": {
    "ExecuteTime": {
     "end_time": "2022-02-13T10:49:45.688706Z",
     "start_time": "2022-02-13T10:49:45.656873Z"
    }
   },
   "outputs": [
    {
     "name": "stdout",
     "output_type": "stream",
     "text": [
      "<class 'pandas.core.frame.DataFrame'>\n",
      "Int64Index: 32536 entries, 0 to 32559\n",
      "Data columns (total 16 columns):\n",
      " #   Column          Non-Null Count  Dtype   \n",
      "---  ------          --------------  -----   \n",
      " 0   age             32536 non-null  int64   \n",
      " 1   work_class      32536 non-null  object  \n",
      " 2   fnlwgt          32536 non-null  int64   \n",
      " 3   education       32536 non-null  object  \n",
      " 4   education_num   32536 non-null  int64   \n",
      " 5   marital_status  32536 non-null  object  \n",
      " 6   occupation      32536 non-null  object  \n",
      " 7   relationship    32536 non-null  object  \n",
      " 8   race            32536 non-null  object  \n",
      " 9   sex             32536 non-null  object  \n",
      " 10  capital_gain    32536 non-null  int64   \n",
      " 11  capital_loss    32536 non-null  int64   \n",
      " 12  hours_per_week  32536 non-null  int64   \n",
      " 13  native_country  32536 non-null  object  \n",
      " 14  income          32536 non-null  object  \n",
      " 15  age_range       32536 non-null  category\n",
      "dtypes: category(1), int64(6), object(9)\n",
      "memory usage: 5.0+ MB\n"
     ]
    }
   ],
   "source": [
    "df_train.info()"
   ]
  },
  {
   "cell_type": "code",
   "execution_count": 65,
   "id": "f640903e",
   "metadata": {
    "ExecuteTime": {
     "end_time": "2022-02-13T10:49:46.441256Z",
     "start_time": "2022-02-13T10:49:46.409967Z"
    }
   },
   "outputs": [
    {
     "data": {
      "text/plain": [
       "(32536, 15)"
      ]
     },
     "execution_count": 65,
     "metadata": {},
     "output_type": "execute_result"
    },
    {
     "data": {
      "text/plain": [
       "(32536,)"
      ]
     },
     "execution_count": 65,
     "metadata": {},
     "output_type": "execute_result"
    },
    {
     "data": {
      "text/plain": [
       "(16276, 15)"
      ]
     },
     "execution_count": 65,
     "metadata": {},
     "output_type": "execute_result"
    },
    {
     "data": {
      "text/plain": [
       "(16276,)"
      ]
     },
     "execution_count": 65,
     "metadata": {},
     "output_type": "execute_result"
    }
   ],
   "source": [
    "x_train.shape\n",
    "y_train.shape\n",
    "\n",
    "x_test.shape\n",
    "y_test.shape"
   ]
  },
  {
   "cell_type": "code",
   "execution_count": 66,
   "id": "fe3c36bb",
   "metadata": {
    "ExecuteTime": {
     "end_time": "2022-02-13T10:49:47.242331Z",
     "start_time": "2022-02-13T10:49:47.195334Z"
    }
   },
   "outputs": [],
   "source": [
    "x_train = pd.DataFrame(scaler.fit_transform(x_train), columns = x_train.columns)\n",
    "x_test = pd.DataFrame(scaler.transform(x_test), columns = x_test.columns)"
   ]
  },
  {
   "cell_type": "code",
   "execution_count": 67,
   "id": "22879cf0",
   "metadata": {
    "ExecuteTime": {
     "end_time": "2022-02-13T10:49:48.011652Z",
     "start_time": "2022-02-13T10:49:47.995715Z"
    }
   },
   "outputs": [
    {
     "data": {
      "text/plain": [
       "(32536, 16276, 32536, 16276)"
      ]
     },
     "execution_count": 67,
     "metadata": {},
     "output_type": "execute_result"
    }
   ],
   "source": [
    "len(x_train),len(x_test),len(y_train),len(y_test)"
   ]
  },
  {
   "cell_type": "markdown",
   "id": "9d506327",
   "metadata": {},
   "source": [
    "# Logistics Model building"
   ]
  },
  {
   "cell_type": "code",
   "execution_count": 68,
   "id": "d48bb187",
   "metadata": {
    "ExecuteTime": {
     "end_time": "2022-02-13T10:49:48.796277Z",
     "start_time": "2022-02-13T10:49:48.780259Z"
    }
   },
   "outputs": [],
   "source": [
    "from sklearn.linear_model import LogisticRegression"
   ]
  },
  {
   "cell_type": "code",
   "execution_count": 70,
   "id": "5070aca5",
   "metadata": {
    "ExecuteTime": {
     "end_time": "2022-02-13T10:49:50.208900Z",
     "start_time": "2022-02-13T10:49:50.161357Z"
    }
   },
   "outputs": [],
   "source": [
    "lr = LogisticRegression()\n",
    "model = lr.fit(x_train,y_train)"
   ]
  },
  {
   "cell_type": "code",
   "execution_count": 153,
   "id": "86cdddeb",
   "metadata": {
    "ExecuteTime": {
     "end_time": "2022-02-13T11:21:32.632177Z",
     "start_time": "2022-02-13T11:21:32.600937Z"
    }
   },
   "outputs": [
    {
     "data": {
      "text/plain": [
       "array([0, 0, 0, ..., 1, 1, 0])"
      ]
     },
     "execution_count": 153,
     "metadata": {},
     "output_type": "execute_result"
    },
    {
     "data": {
      "text/plain": [
       "array([0.02365257, 0.22653988, 0.18805518, ..., 0.52308114, 0.85271816,\n",
       "       0.37570786])"
      ]
     },
     "execution_count": 153,
     "metadata": {},
     "output_type": "execute_result"
    }
   ],
   "source": [
    "lr_prediction = model.predict(x_test)\n",
    "lr_predict_proba = model.predict_proba(x_test)[:,1]\n",
    "lr_prediction\n",
    "lr_predict_proba"
   ]
  },
  {
   "cell_type": "markdown",
   "id": "db5e06d0",
   "metadata": {
    "ExecuteTime": {
     "end_time": "2022-02-12T19:15:54.621391Z",
     "start_time": "2022-02-12T19:15:54.605574Z"
    }
   },
   "source": [
    "## Accuracy score Logistic Regression Classifier"
   ]
  },
  {
   "cell_type": "code",
   "execution_count": 173,
   "id": "52888ce2",
   "metadata": {
    "ExecuteTime": {
     "end_time": "2022-02-13T11:34:04.751211Z",
     "start_time": "2022-02-13T11:34:04.719756Z"
    }
   },
   "outputs": [
    {
     "name": "stdout",
     "output_type": "stream",
     "text": [
      "Train dataset score: 82.6592082616179\n",
      "Train dataset score: 81.73998525436225\n"
     ]
    }
   ],
   "source": [
    "Train_model_score = model.score(x_train,y_train)\n",
    "Test_model_score = model.score(x_test,y_test)\n",
    "print(\"Train dataset score: {}\".format(Train_model_score*100))\n",
    "print(\"Train dataset score: {}\".format((Test_model_score*100)))"
   ]
  },
  {
   "cell_type": "markdown",
   "id": "854c02d3",
   "metadata": {
    "ExecuteTime": {
     "end_time": "2022-02-13T09:16:59.293396Z",
     "start_time": "2022-02-13T09:16:59.277805Z"
    }
   },
   "source": [
    "<li> Observations: the score of the training set is 82.66 and the test dataset is 81.72 </li>"
   ]
  },
  {
   "cell_type": "markdown",
   "id": "ebca2871",
   "metadata": {
    "ExecuteTime": {
     "end_time": "2022-02-12T19:14:54.992732Z",
     "start_time": "2022-02-12T19:14:54.980687Z"
    }
   },
   "source": [
    "## classification report"
   ]
  },
  {
   "cell_type": "code",
   "execution_count": 73,
   "id": "eb327c52",
   "metadata": {
    "ExecuteTime": {
     "end_time": "2022-02-13T10:49:52.579929Z",
     "start_time": "2022-02-13T10:49:52.564681Z"
    }
   },
   "outputs": [],
   "source": [
    "from sklearn.metrics import classification_report"
   ]
  },
  {
   "cell_type": "code",
   "execution_count": 74,
   "id": "39943918",
   "metadata": {
    "ExecuteTime": {
     "end_time": "2022-02-13T10:49:54.987322Z",
     "start_time": "2022-02-13T10:49:54.944037Z"
    }
   },
   "outputs": [
    {
     "name": "stdout",
     "output_type": "stream",
     "text": [
      "              precision    recall  f1-score   support\n",
      "\n",
      "           0       0.84      0.95      0.89     12430\n",
      "           1       0.70      0.40      0.51      3846\n",
      "\n",
      "    accuracy                           0.82     16276\n",
      "   macro avg       0.77      0.67      0.70     16276\n",
      "weighted avg       0.80      0.82      0.80     16276\n",
      "\n"
     ]
    }
   ],
   "source": [
    "cr = classification_report(y_test,lr_prediction)\n",
    "print(cr)"
   ]
  },
  {
   "cell_type": "markdown",
   "id": "356d8d8c",
   "metadata": {
    "ExecuteTime": {
     "end_time": "2022-02-13T09:15:24.790261Z",
     "start_time": "2022-02-13T09:15:24.779729Z"
    }
   },
   "source": [
    "## Confusion Matrix"
   ]
  },
  {
   "cell_type": "code",
   "execution_count": 76,
   "id": "35c2a69e",
   "metadata": {
    "ExecuteTime": {
     "end_time": "2022-02-13T10:49:58.417466Z",
     "start_time": "2022-02-13T10:49:58.413452Z"
    }
   },
   "outputs": [],
   "source": [
    "from sklearn.metrics import confusion_matrix"
   ]
  },
  {
   "cell_type": "code",
   "execution_count": 77,
   "id": "0cd0ef44",
   "metadata": {
    "ExecuteTime": {
     "end_time": "2022-02-13T10:49:59.390888Z",
     "start_time": "2022-02-13T10:49:59.233882Z"
    }
   },
   "outputs": [
    {
     "data": {
      "text/plain": [
       "<Figure size 576x360 with 0 Axes>"
      ]
     },
     "execution_count": 77,
     "metadata": {},
     "output_type": "execute_result"
    },
    {
     "data": {
      "text/plain": [
       "<AxesSubplot:>"
      ]
     },
     "execution_count": 77,
     "metadata": {},
     "output_type": "execute_result"
    },
    {
     "data": {
      "text/plain": [
       "(array([0.5, 1.5]),\n",
       " [Text(0, 0.5, 'Actual_>50K'), Text(0, 1.5, 'Actual_<=50K')])"
      ]
     },
     "execution_count": 77,
     "metadata": {},
     "output_type": "execute_result"
    },
    {
     "data": {
      "image/png": "[encoded data removed]",
      "text/plain": [
       "<Figure size 576x360 with 1 Axes>"
      ]
     },
     "metadata": {},
     "output_type": "display_data"
    }
   ],
   "source": [
    "cm = confusion_matrix(y_test,lr_prediction)\n",
    "sns.set_style('darkgrid')\n",
    "plt.figure(figsize = (8, 5))\n",
    "cols =['Predicted_>50K','predicted_<=50K']\n",
    "sns.heatmap(cm, cmap = 'Blues', annot = True, fmt = 'd', linewidths = 5, cbar = False, annot_kws = {'fontsize': 15}, \n",
    "            yticklabels = ['Actual_>50K','Actual_<=50K'], xticklabels = cols)\n",
    "plt.yticks(rotation = 0)\n",
    "plt.show()"
   ]
  },
  {
   "cell_type": "markdown",
   "id": "fc0864ea",
   "metadata": {
    "ExecuteTime": {
     "end_time": "2022-02-13T11:24:19.422947Z",
     "start_time": "2022-02-13T11:24:19.406941Z"
    }
   },
   "source": [
    "## Roc Curve analysis for Linear Regression "
   ]
  },
  {
   "cell_type": "code",
   "execution_count": 165,
   "id": "5e337de5",
   "metadata": {
    "ExecuteTime": {
     "end_time": "2022-02-13T11:25:36.700039Z",
     "start_time": "2022-02-13T11:25:36.668390Z"
    }
   },
   "outputs": [
    {
     "name": "stdout",
     "output_type": "stream",
     "text": [
      "ROC AUC score for Logistic Regression: 83.50643374085729\n"
     ]
    }
   ],
   "source": [
    "print('ROC AUC score for Logistic Regression: {}'.format((roc_auc_score(y_test,lr_predict_proba))*100))"
   ]
  },
  {
   "cell_type": "code",
   "execution_count": 159,
   "id": "a050ba7b",
   "metadata": {
    "ExecuteTime": {
     "end_time": "2022-02-13T11:24:19.422947Z",
     "start_time": "2022-02-13T11:24:19.406941Z"
    }
   },
   "outputs": [],
   "source": [
    "print(f'ROC AUC score: {roc_auc_score(y_test,lr_predict_proba)}')\n",
    "\n",
    "false_positive_rate1, true_positive_rate1, threshold1 = roc_curve(y_test, lr_predict_proba)\n",
    "print('roc_auc_score for DecisionTree: ', roc_auc_score(y_test, lr_predict_proba))\n",
    "\n",
    "plt.subplots(1, figsize=(10,10))\n",
    "plt.title('Receiver Operating Characteristic - Logistic Regression')\n",
    "plt.plot(false_positive_rate1, true_positive_rate1)\n",
    "plt.plot([0, 1], ls=\"--\")\n",
    "plt.plot([0, 0], [1, 0] , c=\".7\"), plt.plot([1, 1] , c=\".7\")\n",
    "plt.ylabel('True Positive Rate')\n",
    "plt.xlabel('False Positive Rate')\n",
    "plt.show()"
   ]
  },
  {
   "cell_type": "markdown",
   "id": "dbc1c831",
   "metadata": {},
   "source": [
    "# Random forest clasifier"
   ]
  },
  {
   "cell_type": "markdown",
   "id": "8b51ed9b",
   "metadata": {},
   "source": [
    "## Randomforest building"
   ]
  },
  {
   "cell_type": "code",
   "execution_count": 133,
   "id": "c23d1aad",
   "metadata": {
    "ExecuteTime": {
     "end_time": "2022-02-13T11:13:49.893475Z",
     "start_time": "2022-02-13T11:13:49.886999Z"
    }
   },
   "outputs": [],
   "source": [
    "from sklearn.metrics import roc_curve, roc_auc_score"
   ]
  },
  {
   "cell_type": "code",
   "execution_count": 93,
   "id": "8d693430",
   "metadata": {
    "ExecuteTime": {
     "end_time": "2022-02-13T10:57:02.594590Z",
     "start_time": "2022-02-13T10:56:59.753750Z"
    }
   },
   "outputs": [
    {
     "data": {
      "text/plain": [
       "RandomForestClassifier(random_state=0)"
      ]
     },
     "execution_count": 93,
     "metadata": {},
     "output_type": "execute_result"
    }
   ],
   "source": [
    "rf_classifier = RandomForestClassifier(criterion= 'gini', n_estimators= 100, random_state= 0)\n",
    "rf_classifier.fit(x_train, y_train)"
   ]
  },
  {
   "cell_type": "markdown",
   "id": "03488e6d",
   "metadata": {
    "ExecuteTime": {
     "end_time": "2022-02-13T10:54:27.611639Z",
     "start_time": "2022-02-13T10:54:27.595558Z"
    }
   },
   "source": [
    "## Predicting"
   ]
  },
  {
   "cell_type": "code",
   "execution_count": 138,
   "id": "d6503ece",
   "metadata": {
    "ExecuteTime": {
     "end_time": "2022-02-13T11:16:03.582417Z",
     "start_time": "2022-02-13T11:16:02.970209Z"
    }
   },
   "outputs": [
    {
     "data": {
      "text/plain": [
       "array([0, 0, 1, ..., 1, 0, 1])"
      ]
     },
     "execution_count": 138,
     "metadata": {},
     "output_type": "execute_result"
    },
    {
     "data": {
      "text/plain": [
       "array([0.  , 0.17, 0.59, ..., 0.51, 0.24, 0.71])"
      ]
     },
     "execution_count": 138,
     "metadata": {},
     "output_type": "execute_result"
    }
   ],
   "source": [
    "y_pred = rf_classifier.predict(x_test)\n",
    "y_prob = rf_classifier.predict_proba(x_test)[:,1]\n",
    "y_pred\n",
    "y_prob"
   ]
  },
  {
   "cell_type": "markdown",
   "id": "03938256",
   "metadata": {},
   "source": [
    "## Confusion Matrix Randomforest "
   ]
  },
  {
   "cell_type": "code",
   "execution_count": 97,
   "id": "9a37925d",
   "metadata": {
    "ExecuteTime": {
     "end_time": "2022-02-13T10:57:33.115750Z",
     "start_time": "2022-02-13T10:57:32.942746Z"
    }
   },
   "outputs": [
    {
     "data": {
      "text/plain": [
       "<Figure size 576x360 with 0 Axes>"
      ]
     },
     "execution_count": 97,
     "metadata": {},
     "output_type": "execute_result"
    },
    {
     "data": {
      "text/plain": [
       "<AxesSubplot:>"
      ]
     },
     "execution_count": 97,
     "metadata": {},
     "output_type": "execute_result"
    },
    {
     "data": {
      "text/plain": [
       "(array([0.5, 1.5]),\n",
       " [Text(0, 0.5, 'Actual_>50K'), Text(0, 1.5, 'Actual_<=50K')])"
      ]
     },
     "execution_count": 97,
     "metadata": {},
     "output_type": "execute_result"
    },
    {
     "data": {
      "image/png": "[encoded data removed]",
      "text/plain": [
       "<Figure size 576x360 with 1 Axes>"
      ]
     },
     "metadata": {},
     "output_type": "display_data"
    }
   ],
   "source": [
    "cm_randomforest = confusion_matrix(y_test, y_pred)\n",
    "plt.figure(figsize = (8, 5))\n",
    "sns.heatmap(cm_randomforest, cmap = 'Greens', annot = True, fmt = 'd', linewidths = 5, cbar = False, annot_kws = {'fontsize': 15}, \n",
    "            yticklabels = ['Actual_>50K','Actual_<=50K'], xticklabels = cols)\n",
    "plt.yticks(rotation = 0)\n",
    "plt.show()"
   ]
  },
  {
   "cell_type": "code",
   "execution_count": 98,
   "id": "d368e25c",
   "metadata": {
    "ExecuteTime": {
     "end_time": "2022-02-13T10:57:44.942071Z",
     "start_time": "2022-02-13T10:57:44.910748Z"
    }
   },
   "outputs": [
    {
     "name": "stdout",
     "output_type": "stream",
     "text": [
      "              precision    recall  f1-score   support\n",
      "\n",
      "           0       0.87      0.94      0.90     12430\n",
      "           1       0.75      0.54      0.63      3846\n",
      "\n",
      "    accuracy                           0.85     16276\n",
      "   macro avg       0.81      0.74      0.77     16276\n",
      "weighted avg       0.84      0.85      0.84     16276\n",
      "\n"
     ]
    }
   ],
   "source": [
    "print(classification_report(y_test, y_pred))"
   ]
  },
  {
   "cell_type": "markdown",
   "id": "6c9f3c4b",
   "metadata": {},
   "source": [
    "## Accuracy score RandomForest Classifier"
   ]
  },
  {
   "cell_type": "code",
   "execution_count": 103,
   "id": "daa00a2a",
   "metadata": {
    "ExecuteTime": {
     "end_time": "2022-02-13T11:00:08.290208Z",
     "start_time": "2022-02-13T11:00:07.331645Z"
    }
   },
   "outputs": [
    {
     "data": {
      "text/plain": [
       "99.9938529628719"
      ]
     },
     "execution_count": 103,
     "metadata": {},
     "output_type": "execute_result"
    },
    {
     "data": {
      "text/plain": [
       "84.80584910297371"
      ]
     },
     "execution_count": 103,
     "metadata": {},
     "output_type": "execute_result"
    }
   ],
   "source": [
    "train_score = rf_classifier.score(x_train,y_train)*100\n",
    "test_score = rf_classifier.score(x_test,y_test)*100\n",
    "train_score\n",
    "test_score"
   ]
  },
  {
   "cell_type": "markdown",
   "id": "dcf24f26",
   "metadata": {},
   "source": [
    "## Roc curve RandomForest Classifier"
   ]
  },
  {
   "cell_type": "code",
   "execution_count": 167,
   "id": "515d4e9e",
   "metadata": {
    "ExecuteTime": {
     "end_time": "2022-02-13T11:26:05.596862Z",
     "start_time": "2022-02-13T11:26:05.580793Z"
    }
   },
   "outputs": [
    {
     "name": "stdout",
     "output_type": "stream",
     "text": [
      "ROC AUC score for RandomForest Classifier: 89.58083729624326\n"
     ]
    }
   ],
   "source": [
    "print(f'ROC AUC score for RandomForest Classifier: {roc_auc_score(y_test,y_prob)*100}')"
   ]
  },
  {
   "cell_type": "code",
   "execution_count": 158,
   "id": "c4993eeb",
   "metadata": {
    "ExecuteTime": {
     "end_time": "2022-02-13T11:24:04.675510Z",
     "start_time": "2022-02-13T11:24:04.439638Z"
    }
   },
   "outputs": [
    {
     "name": "stdout",
     "output_type": "stream",
     "text": [
      "ROC AUC score: 0.8958083729624325\n",
      "roc_auc_score for DecisionTree:  0.8958083729624325\n"
     ]
    },
    {
     "data": {
      "text/plain": [
       "(<Figure size 720x720 with 1 Axes>, <AxesSubplot:>)"
      ]
     },
     "execution_count": 158,
     "metadata": {},
     "output_type": "execute_result"
    },
    {
     "data": {
      "text/plain": [
       "Text(0.5, 1.0, 'Receiver Operating Characteristic - DecisionTree')"
      ]
     },
     "execution_count": 158,
     "metadata": {},
     "output_type": "execute_result"
    },
    {
     "data": {
      "text/plain": [
       "[<matplotlib.lines.Line2D at 0x1d19561ab80>]"
      ]
     },
     "execution_count": 158,
     "metadata": {},
     "output_type": "execute_result"
    },
    {
     "data": {
      "text/plain": [
       "[<matplotlib.lines.Line2D at 0x1d19561ae50>]"
      ]
     },
     "execution_count": 158,
     "metadata": {},
     "output_type": "execute_result"
    },
    {
     "data": {
      "text/plain": [
       "([<matplotlib.lines.Line2D at 0x1d195790250>],\n",
       " [<matplotlib.lines.Line2D at 0x1d1957905b0>])"
      ]
     },
     "execution_count": 158,
     "metadata": {},
     "output_type": "execute_result"
    },
    {
     "data": {
      "text/plain": [
       "Text(0, 0.5, 'True Positive Rate')"
      ]
     },
     "execution_count": 158,
     "metadata": {},
     "output_type": "execute_result"
    },
    {
     "data": {
      "text/plain": [
       "Text(0.5, 0, 'False Positive Rate')"
      ]
     },
     "execution_count": 158,
     "metadata": {},
     "output_type": "execute_result"
    },
    {
     "data": {
      "image/png": "[encoded data removed]",
      "text/plain": [
       "<Figure size 720x720 with 1 Axes>"
      ]
     },
     "metadata": {},
     "output_type": "display_data"
    }
   ],
   "source": [
    "print(f'ROC AUC score: {roc_auc_score(y_test,y_prob)}')\n",
    "\n",
    "false_positive_rate1, true_positive_rate1, threshold1 = roc_curve(y_test, y_prob)\n",
    "print('roc_auc_score for DecisionTree: ', roc_auc_score(y_test, y_prob))\n",
    "\n",
    "plt.subplots(1, figsize=(10,10))\n",
    "plt.title('Receiver Operating Characteristic - DecisionTree')\n",
    "plt.plot(false_positive_rate1, true_positive_rate1)\n",
    "plt.plot([0, 1], ls=\"--\")\n",
    "plt.plot([0, 0], [1, 0] , c=\".7\"), plt.plot([1, 1] , c=\".7\")\n",
    "plt.ylabel('True Positive Rate')\n",
    "plt.xlabel('False Positive Rate')\n",
    "plt.show()"
   ]
  },
  {
   "cell_type": "markdown",
   "id": "2a3c38d0",
   "metadata": {
    "ExecuteTime": {
     "end_time": "2022-02-13T11:27:19.647283Z",
     "start_time": "2022-02-13T11:27:19.630342Z"
    }
   },
   "source": [
    "# conclusion"
   ]
  },
  {
   "cell_type": "markdown",
   "id": "3662ec9b",
   "metadata": {
    "ExecuteTime": {
     "end_time": "2022-02-13T11:30:04.041012Z",
     "start_time": "2022-02-13T11:30:04.025431Z"
    }
   },
   "source": [
    "<li>By the given \"Census Income prediction\" Dataset, Considering two Machine learning Supervisied Algorithms,Following were the result of Logistics Regression and RandomForest Classifiers</li>\n",
    "<li> Logistic Regression:</li>\n",
    "<ul><li>Train dataset score: 82.65%</li>\n",
    "<li>Train dataset score: 81.73%</li>\n",
    "<li>ROC Curve score for logistic regressin: 83.50</li></ul>\n",
    "\n",
    "<li> Random Forest Classifier:</li>\n",
    "<ul><li>Train dataset score: 99.99%</li>\n",
    "<li>Train dataset score: 84.80%</li>\n",
    "\n",
    "   <li> with roc score for logistic regressin: 89.58</li>\n",
    "\n",
    "</ul>"
   ]
  }
 ],
 "metadata": {
  "kernelspec": {
   "display_name": "Python 3",
   "language": "python",
   "name": "python3"
  },
  "language_info": {
   "codemirror_mode": {
    "name": "ipython",
    "version": 3
   },
   "file_extension": ".py",
   "mimetype": "text/x-python",
   "name": "python",
   "nbconvert_exporter": "python",
   "pygments_lexer": "ipython3",
   "version": "3.8.8"
  },
  "toc": {
   "base_numbering": 1,
   "nav_menu": {},
   "number_sections": true,
   "sideBar": true,
   "skip_h1_title": false,
   "title_cell": "Table of Contents",
   "title_sidebar": "Contents",
   "toc_cell": false,
   "toc_position": {},
   "toc_section_display": true,
   "toc_window_display": true
  },
  "varInspector": {
   "cols": {
    "lenName": 16,
    "lenType": 16,
    "lenVar": 40
   },
   "kernels_config": {
    "python": {
     "delete_cmd_postfix": "",
     "delete_cmd_prefix": "del ",
     "library": "var_list.py",
     "varRefreshCmd": "print(var_dic_list())"
    },
    "r": {
     "delete_cmd_postfix": ") ",
     "delete_cmd_prefix": "rm(",
     "library": "var_list.r",
     "varRefreshCmd": "cat(var_dic_list()) "
    }
   },
   "types_to_exclude": [
    "module",
    "function",
    "builtin_function_or_method",
    "instance",
    "_Feature"
   ],
   "window_display": false
  }
 },
 "nbformat": 4,
 "nbformat_minor": 5
}
